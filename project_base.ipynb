{
 "cells": [
  {
   "cell_type": "code",
   "execution_count": 1,
   "metadata": {},
   "outputs": [],
   "source": [
    "# -*- coding: utf-8 -*-\n",
    "\"\"\"\n",
    "Created on Wed Nov  4 17:10:20 2020\n",
    "\n",
    "@author: Tagore pothuneedi \n",
    "@Used code: PJ\n",
    "\"\"\"\n",
    "\n",
    "import matplotlib.pyplot as plt #to plot required plots\n",
    "from skimage.transform import resize #to resize image \n",
    "from skimage.util import pad #to pad values in numpy array\n",
    "import numpy as np\n",
    "import pandas as pd\n",
    "from sklearn.metrics import accuracy_score, confusion_matrix, classification_report\n",
    "import os #to get paths of images\n",
    "import cv2 #to read images\n",
    "from sklearn.decomposition import PCA\n",
    "scores={}\n",
    "\n",
    "\n",
    "#function used to show the image\n",
    "def show_image(image_path,title='Image',cmap_type='gray'):\n",
    "    img_grey = cv2.imread(image_path, cv2.IMREAD_GRAYSCALE)\n",
    "    plt.imshow(img_grey,cmap=cmap_type)\n",
    "    plt.title(title)\n",
    "    plt.axis('off')\n",
    "    plt.show()\n",
    "\n",
    "# function to get all file paths from provided directory\n",
    "def get_list_of_files(dir_path):\n",
    "    # create a list of file and sub directories \n",
    "    # names in the given directory \n",
    "    files = os.listdir(dir_path)\n",
    "    all_files = list()\n",
    "    # Iterate over all the entries\n",
    "    for file in files:\n",
    "        # Create full path\n",
    "        fullPath = os.path.join(dir_path, file)\n",
    "        # If entry is a directory then get the list of files in this directory \n",
    "        if os.path.isdir(fullPath):\n",
    "            all_files = all_files + get_list_of_files(fullPath)\n",
    "        else:\n",
    "            all_files.append(fullPath)\n",
    "                \n",
    "    return all_files\n",
    "\n",
    "#function to get folder names from provided path : folder name is later used as target label\n",
    "def get_folder_name_list(dir_path):\n",
    "   base_path_folder_list=[]\n",
    "   for entry in os.listdir(dir_path):\n",
    "       if os.path.isdir(os.path.join(dir_path, entry)):\n",
    "           base_path_folder_list.append(entry) \n",
    "   return base_path_folder_list\n",
    "\n",
    "#white padding : padwithone black padding:pad with zero\n",
    "#used in preprocessing of image, for adding 2 pixel border from all sides\n",
    "def padwithzeros(vector, pad_width, iaxis, kwargs):\n",
    "    vector[:pad_width[0]] = 0\n",
    "    vector[-pad_width[1]:] = 0\n",
    "    return vector\n",
    "\n",
    "def pre_process_image(img_path):\n",
    "    #show_image(img_path,'greyimg')\n",
    "    img_grey = cv2.imread(img_path, cv2.IMREAD_GRAYSCALE)\n",
    "    \n",
    "        \n",
    "    # define a threshold, 128 is the middle of black and white in grey scale\n",
    "    thresh = 128\n",
    "    \n",
    "    # threshold the image\n",
    "    img_binary = cv2.threshold(img_grey, thresh, 255, cv2.THRESH_BINARY)[1]\n",
    "    \n",
    "    #invert the binary image to get clear image\n",
    "    inverted_binary_image =  cv2.bitwise_not(img_binary)\n",
    "    fimg = np.where(inverted_binary_image>0,1,inverted_binary_image)\n",
    "    \n",
    "    \n",
    "    '''\n",
    "    # can be used when image is not 32 * 32 pixel \n",
    "    resized_img = resize(inverted_binary_image,(32,32),anti_aliasing=False) # second parameter : scale here 2 double the size\n",
    "    resized_img_with_padding = pad(resized_img,2,padwithzeros)\n",
    "    fimg = np.where(resized_img_with_padding>0,1,resized_img_with_padding)\n",
    "    '''\n",
    "    #normalized_fimg = fimg / np.linalg.norm(fimg)\n",
    "    normalized_fimg = fimg \n",
    "    \n",
    "    #filters\n",
    "    #sobelx = cv2.Sobel(fimg,cv2.CV_64F,1,0,ksize=5)\n",
    "    #sobely = cv2.Sobel(fimg,cv2.CV_64F,0,1,ksize=5)\n",
    "    #laplacian = cv2.Laplacian(fimg,cv2.CV_64F)\n",
    "    \n",
    "    return normalized_fimg.flatten()\n",
    "\n",
    "#get list of preprocessed images\n",
    "def load_images_list(img_paths):\n",
    "    images=[]\n",
    "    for img_path in img_paths:\n",
    "        fimg = pre_process_image(img_path)\n",
    "        images.append(fimg)\n",
    "    return images\n",
    "\n",
    "# base path for dataset\n",
    "base_path=r\"C:\\Users\\tagor\\Desktop\\ml\\DevanagariHandwrittenCharacterDataset\\Train\"\n",
    "\n",
    "\n",
    "\n",
    "#base_path_folder_list = get_folder_name_list(base_path)    \n",
    "#print(base_path_folder_list)\n",
    "\n",
    "\n",
    "#base_path_folder_list=['character_1_ka','character_2_kha','character_3_ga','character_4_gha','character_5_kna']\n",
    "base_path_folder_list=['digit_0', 'digit_1', 'digit_2', 'digit_3', 'digit_4', 'digit_5', 'digit_6', 'digit_7', 'digit_8', 'digit_9']\n",
    "\n",
    "df = pd.DataFrame()\n",
    "i=0\n",
    "for folder_name in base_path_folder_list:\n",
    "    img_path=base_path+'/'+folder_name+'/'\n",
    "    images_path_list = get_list_of_files(img_path)\n",
    "    images_flattened = load_images_list(images_path_list)\n",
    "    df_images = pd.DataFrame(images_flattened)\n",
    "    df_images['label'] = i\n",
    "    i+=1\n",
    "    \n",
    "    ##subdivide\n",
    "    ##astract\n",
    "    \n",
    "    df=df.append(df_images,ignore_index=True)\n",
    "    \n",
    "\n",
    "from sklearn.ensemble import RandomForestClassifier\n",
    "from sklearn.model_selection import train_test_split\n",
    "\n",
    "#shuffle records in df\n",
    "df = df.sample(frac = 1) \n",
    "X=df.iloc[:,df.columns != 'label']\n",
    "y=df['label']\n",
    "\n",
    "\n",
    "X_train,X_test,y_train,y_test= train_test_split(X,y,test_size=.2,random_state=1111,stratify=y)\n",
    "\n",
    "\n",
    "##################################################################################\n",
    "#target_names=['character_1_ka','character_2_kha','character_3_ga']\n",
    "target_names=base_path_folder_list.copy()\n",
    "\n",
    "\n",
    "#testing random image\n",
    "test_base_path = r'C:\\Users\\tagor\\Desktop\\ml\\DevanagariHandwrittenCharacterDataset\\Test'\n",
    "test_img_path=test_base_path+'digit_7/5771.png'\n",
    "\n",
    "\n",
    "def test_char(img_path):\n",
    "    test_img = pre_process_image(img_path)\n",
    "    test_img=test_img.reshape(1,-1)\n",
    "    print(\"rfc: {0}\".format(rfc.predict(test_img)))\n",
    "\n",
    "    "
   ]
  },
  {
   "cell_type": "code",
   "execution_count": 2,
   "metadata": {},
   "outputs": [],
   "source": [
    "\n",
    "##################\n",
    "#CNN \n",
    "##################\n",
    "import tensorflow as tf\n",
    "import keras\n",
    "from keras.models import Sequential\n",
    "from keras.layers import Dense, Dropout, Flatten\n",
    "from keras.layers import Conv2D, MaxPooling2D\n",
    "import numpy as np\n",
    "from keras.layers.core import Activation\n",
    "import keras.backend as K\n"
   ]
  },
  {
   "cell_type": "code",
   "execution_count": 3,
   "metadata": {},
   "outputs": [
    {
     "data": {
      "text/plain": [
       "((13600, 1024), (17000, 1024))"
      ]
     },
     "execution_count": 3,
     "metadata": {},
     "output_type": "execute_result"
    }
   ],
   "source": [
    "X_train.shape,X.shape"
   ]
  },
  {
   "cell_type": "code",
   "execution_count": 4,
   "metadata": {},
   "outputs": [
    {
     "name": "stdout",
     "output_type": "stream",
     "text": [
      "x_train shape: (13600, 32, 32, 1)\n",
      "13600 train samples\n",
      "3400 test samples\n"
     ]
    }
   ],
   "source": [
    "batch_size = 128\n",
    "num_classes = 10\n",
    "epochs = 12\n",
    "\n",
    "# input image dimensions\n",
    "img_rows, img_cols = 32,32\n",
    "\n",
    "# the data, split between train and test sets\n",
    "\n",
    "x_train = np.asarray(X_train).reshape(13600,32,32,1)\n",
    "x_test = np.asarray(X_test).reshape(3400,32,32,1)\n",
    "\n",
    "#x_train = X_train\n",
    "#x_test = X_test\n",
    "\n",
    "print('x_train shape:', x_train.shape)\n",
    "print(x_train.shape[0], 'train samples')\n",
    "print(x_test.shape[0], 'test samples')\n",
    "\n",
    "# convert class vectors to binary class matrices\n",
    "y_train = keras.utils.to_categorical(y_train, 10)\n",
    "y_test = keras.utils.to_categorical(y_test, 10)"
   ]
  },
  {
   "cell_type": "code",
   "execution_count": 5,
   "metadata": {},
   "outputs": [],
   "source": [
    "from keras.backend import sigmoid,tanh,exp\n",
    "from keras.utils.generic_utils import get_custom_objects\n",
    "from keras.layers import Activation\n",
    "\n",
    "def param_tanh(x):\n",
    "    return x*tanh(x)\n",
    "def relu_moid(x):\n",
    "    #if x > 0.0:\n",
    "    #    return x\n",
    "    #else:\n",
    "    #    return 1/1+exp(-x)\n",
    "\n",
    "    return K.switch(x>0,x,sigmoid(x))\n",
    "\n",
    "def param_sigmoid(x):\n",
    "    return x/(1+exp(-x))\n",
    "    #print(x)\n",
    "    \n",
    "get_custom_objects().update({'param_tanh': Activation(param_tanh)})\n",
    "get_custom_objects().update({'relu_moid': Activation(relu_moid)})\n",
    "get_custom_objects().update({'param_sigmoid': Activation(param_sigmoid)})"
   ]
  },
  {
   "cell_type": "markdown",
   "metadata": {},
   "source": [
    "# Relu_moid"
   ]
  },
  {
   "cell_type": "code",
   "execution_count": 6,
   "metadata": {},
   "outputs": [],
   "source": [
    "model = Sequential()\n",
    "model.add(Conv2D(32, kernel_size=(3, 3),activation='relu_moid',input_shape=(32,32,1)))\n",
    "model.add(Conv2D(64, (3, 3), activation='relu_moid'))\n",
    "model.add(MaxPooling2D(pool_size=(2, 2)))\n",
    "model.add(Dropout(0.25))\n",
    "model.add(Flatten())\n",
    "model.add(Dense(128, activation='relu_moid'))\n",
    "model.add(Dropout(0.5))\n",
    "model.add(Dense(10, activation='softmax'))\n"
   ]
  },
  {
   "cell_type": "code",
   "execution_count": 7,
   "metadata": {},
   "outputs": [
    {
     "data": {
      "text/plain": [
       "((3400, 32, 32, 1), (3400, 10), (13600, 32, 32, 1), (13600, 10))"
      ]
     },
     "execution_count": 7,
     "metadata": {},
     "output_type": "execute_result"
    }
   ],
   "source": [
    "#optimizer=keras.optimizers.Adadelta(),\n",
    "x_test.shape,y_test.shape,x_train.shape,y_train.shape"
   ]
  },
  {
   "cell_type": "code",
   "execution_count": 8,
   "metadata": {
    "scrolled": true
   },
   "outputs": [
    {
     "name": "stdout",
     "output_type": "stream",
     "text": [
      "Epoch 1/12\n",
      "107/107 [==============================] - 17s 160ms/step - loss: 2.5431 - accuracy: 0.0000e+00 - precision: 0.1010 - recall: 0.0036 - auc: 0.4992 - val_loss: 2.3024 - val_accuracy: 0.0000e+00 - val_precision: 0.0000e+00 - val_recall: 0.0000e+00 - val_auc: 0.5000\n",
      "Epoch 2/12\n",
      "107/107 [==============================] - 17s 160ms/step - loss: 2.3018 - accuracy: 0.0000e+00 - precision: 0.0000e+00 - recall: 0.0000e+00 - auc: 0.5039 - val_loss: 2.3008 - val_accuracy: 0.0000e+00 - val_precision: 0.0000e+00 - val_recall: 0.0000e+00 - val_auc: 0.5128\n",
      "Epoch 3/12\n",
      "107/107 [==============================] - 17s 160ms/step - loss: 2.2903 - accuracy: 0.0000e+00 - precision: 0.0000e+00 - recall: 0.0000e+00 - auc: 0.5129 - val_loss: 2.2107 - val_accuracy: 0.0000e+00 - val_precision: 0.0000e+00 - val_recall: 0.0000e+00 - val_auc: 0.6142\n",
      "Epoch 4/12\n",
      "107/107 [==============================] - 17s 159ms/step - loss: 2.1388 - accuracy: 0.0000e+00 - precision: 0.8919 - recall: 0.0097 - auc: 0.6257 - val_loss: 1.6710 - val_accuracy: 0.0000e+00 - val_precision: 1.0000 - val_recall: 0.0094 - val_auc: 0.8856\n",
      "Epoch 5/12\n",
      "107/107 [==============================] - 17s 158ms/step - loss: 1.4990 - accuracy: 0.0000e+00 - precision: 0.7870 - recall: 0.2446 - auc: 0.8586 - val_loss: 0.6641 - val_accuracy: 0.0000e+00 - val_precision: 0.9376 - val_recall: 0.6006 - val_auc: 0.9808\n",
      "Epoch 6/12\n",
      "107/107 [==============================] - 17s 158ms/step - loss: 0.9506 - accuracy: 1.1029e-04 - precision: 0.8239 - recall: 0.5211 - auc: 0.9481 - val_loss: 0.3400 - val_accuracy: 0.0000e+00 - val_precision: 0.9507 - val_recall: 0.8453 - val_auc: 0.9934\n",
      "Epoch 7/12\n",
      "107/107 [==============================] - 17s 158ms/step - loss: 0.6104 - accuracy: 0.0011 - precision: 0.8725 - recall: 0.7126 - auc: 0.9777 - val_loss: 0.2153 - val_accuracy: 6.1765e-04 - val_precision: 0.9552 - val_recall: 0.9153 - val_auc: 0.9963\n",
      "Epoch 8/12\n",
      "107/107 [==============================] - 17s 157ms/step - loss: 0.3411 - accuracy: 0.0046 - precision: 0.9170 - recall: 0.8559 - auc: 0.9914 - val_loss: 0.1243 - val_accuracy: 0.0041 - val_precision: 0.9701 - val_recall: 0.9553 - val_auc: 0.9980\n",
      "Epoch 9/12\n",
      "107/107 [==============================] - 17s 158ms/step - loss: 0.2197 - accuracy: 0.0074 - precision: 0.9434 - recall: 0.9114 - auc: 0.9960 - val_loss: 0.0893 - val_accuracy: 0.0088 - val_precision: 0.9798 - val_recall: 0.9685 - val_auc: 0.9987\n",
      "Epoch 10/12\n",
      "107/107 [==============================] - 17s 160ms/step - loss: 0.1698 - accuracy: 0.0100 - precision: 0.9539 - recall: 0.9345 - auc: 0.9969 - val_loss: 0.0719 - val_accuracy: 0.0139 - val_precision: 0.9798 - val_recall: 0.9724 - val_auc: 0.9991\n",
      "Epoch 11/12\n",
      "107/107 [==============================] - 17s 163ms/step - loss: 0.1274 - accuracy: 0.0123 - precision: 0.9665 - recall: 0.9526 - auc: 0.9980 - val_loss: 0.0587 - val_accuracy: 0.0134 - val_precision: 0.9855 - val_recall: 0.9776 - val_auc: 0.9992\n",
      "Epoch 12/12\n",
      "107/107 [==============================] - 17s 163ms/step - loss: 0.1020 - accuracy: 0.0177 - precision: 0.9719 - recall: 0.9616 - auc: 0.9985 - val_loss: 0.0532 - val_accuracy: 0.0212 - val_precision: 0.9852 - val_recall: 0.9800 - val_auc: 0.9993\n",
      "Test loss: 0.053222499787807465\n",
      "Test accuracy: 0.021176470443606377\n"
     ]
    }
   ],
   "source": [
    "model.compile(loss=keras.losses.categorical_crossentropy,\n",
    "              optimizer='Adam',\n",
    "              metrics=['Accuracy','Precision','Recall','AUC'])\n",
    "model.fit(x_train, y_train,\n",
    "          batch_size=batch_size,\n",
    "          epochs=epochs,\n",
    "          verbose=1,\n",
    "          validation_data=(x_test, y_test))\n",
    "score = model.evaluate(x_test, y_test, verbose=0)\n",
    "print('Test loss:', score[0])\n",
    "print('Test accuracy:', score[1])\n",
    "scores['relu_moid']=[]\n",
    "scores['relu_moid'].append(score[1])\n",
    "scores['relu_moid'].append(score[2])\n",
    "scores['relu_moid'].append(score[3])\n",
    "scores['relu_moid'].append(score[4])"
   ]
  },
  {
   "cell_type": "markdown",
   "metadata": {},
   "source": [
    "# param_tanh"
   ]
  },
  {
   "cell_type": "code",
   "execution_count": 9,
   "metadata": {},
   "outputs": [],
   "source": [
    "model = Sequential()\n",
    "model.add(Conv2D(32, kernel_size=(3, 3),activation='param_tanh',input_shape=(32,32,1)))\n",
    "model.add(Conv2D(64, (3, 3), activation='param_tanh'))\n",
    "model.add(MaxPooling2D(pool_size=(2, 2)))\n",
    "model.add(Dropout(0.25))\n",
    "model.add(Flatten())\n",
    "model.add(Dense(128, activation='param_tanh'))\n",
    "model.add(Dropout(0.5))\n",
    "model.add(Dense(10, activation='softmax'))\n"
   ]
  },
  {
   "cell_type": "code",
   "execution_count": 10,
   "metadata": {},
   "outputs": [
    {
     "name": "stdout",
     "output_type": "stream",
     "text": [
      "Epoch 1/12\n",
      "107/107 [==============================] - 17s 163ms/step - loss: 0.6236 - accuracy: 1.4706e-05 - precision: 0.9074 - recall: 0.7237 - auc: 0.9765 - val_loss: 0.0903 - val_accuracy: 0.0000e+00 - val_precision: 0.9765 - val_recall: 0.9653 - val_auc: 0.9992\n",
      "Epoch 2/12\n",
      "107/107 [==============================] - 17s 157ms/step - loss: 0.1196 - accuracy: 3.0147e-04 - precision: 0.9680 - recall: 0.9552 - auc: 0.9985 - val_loss: 0.0522 - val_accuracy: 0.0000e+00 - val_precision: 0.9879 - val_recall: 0.9806 - val_auc: 0.9995\n",
      "Epoch 3/12\n",
      "107/107 [==============================] - 17s 158ms/step - loss: 0.0852 - accuracy: 8.8235e-04 - precision: 0.9786 - recall: 0.9701 - auc: 0.9991 - val_loss: 0.0375 - val_accuracy: 0.0000e+00 - val_precision: 0.9900 - val_recall: 0.9862 - val_auc: 0.9996\n",
      "Epoch 4/12\n",
      "107/107 [==============================] - 17s 159ms/step - loss: 0.0682 - accuracy: 0.0018 - precision: 0.9818 - recall: 0.9746 - auc: 0.9995 - val_loss: 0.0361 - val_accuracy: 0.0000e+00 - val_precision: 0.9914 - val_recall: 0.9856 - val_auc: 0.9998\n",
      "Epoch 5/12\n",
      "107/107 [==============================] - 17s 161ms/step - loss: 0.0568 - accuracy: 0.0029 - precision: 0.9853 - recall: 0.9796 - auc: 0.9997 - val_loss: 0.0328 - val_accuracy: 0.0012 - val_precision: 0.9908 - val_recall: 0.9871 - val_auc: 0.9996\n",
      "Epoch 6/12\n",
      "107/107 [==============================] - 17s 160ms/step - loss: 0.0455 - accuracy: 0.0043 - precision: 0.9875 - recall: 0.9835 - auc: 0.9998 - val_loss: 0.0315 - val_accuracy: 8.5294e-04 - val_precision: 0.9914 - val_recall: 0.9885 - val_auc: 0.9996\n",
      "Epoch 7/12\n",
      "107/107 [==============================] - 17s 158ms/step - loss: 0.0441 - accuracy: 0.0045 - precision: 0.9875 - recall: 0.9843 - auc: 0.9997 - val_loss: 0.0287 - val_accuracy: 0.0086 - val_precision: 0.9917 - val_recall: 0.9897 - val_auc: 0.9995\n",
      "Epoch 8/12\n",
      "107/107 [==============================] - 17s 159ms/step - loss: 0.0375 - accuracy: 0.0061 - precision: 0.9895 - recall: 0.9865 - auc: 0.9998 - val_loss: 0.0269 - val_accuracy: 4.1176e-04 - val_precision: 0.9926 - val_recall: 0.9894 - val_auc: 0.9995\n",
      "Epoch 9/12\n",
      "107/107 [==============================] - 17s 159ms/step - loss: 0.0345 - accuracy: 0.0066 - precision: 0.9900 - recall: 0.9874 - auc: 0.9997 - val_loss: 0.0294 - val_accuracy: 0.0071 - val_precision: 0.9920 - val_recall: 0.9888 - val_auc: 0.9996\n",
      "Epoch 10/12\n",
      "107/107 [==============================] - 17s 159ms/step - loss: 0.0301 - accuracy: 0.0087 - precision: 0.9917 - recall: 0.9896 - auc: 0.9998 - val_loss: 0.0264 - val_accuracy: 0.0061 - val_precision: 0.9941 - val_recall: 0.9900 - val_auc: 0.9997\n",
      "Epoch 11/12\n",
      "107/107 [==============================] - 17s 159ms/step - loss: 0.0238 - accuracy: 0.0098 - precision: 0.9937 - recall: 0.9924 - auc: 0.9999 - val_loss: 0.0247 - val_accuracy: 0.0074 - val_precision: 0.9920 - val_recall: 0.9906 - val_auc: 0.9997\n",
      "Epoch 12/12\n",
      "107/107 [==============================] - 17s 160ms/step - loss: 0.0261 - accuracy: 0.0079 - precision: 0.9925 - recall: 0.9897 - auc: 0.9999 - val_loss: 0.0272 - val_accuracy: 0.0182 - val_precision: 0.9926 - val_recall: 0.9900 - val_auc: 0.9995\n",
      "Test loss: 0.027223456650972366\n",
      "Test accuracy: 0.018176469951868057\n"
     ]
    }
   ],
   "source": [
    "model.compile(loss=keras.losses.categorical_crossentropy,\n",
    "              optimizer='Adam',\n",
    "              metrics=['Accuracy','Precision','Recall','AUC'])\n",
    "model.fit(x_train, y_train,\n",
    "          batch_size=batch_size,\n",
    "          epochs=epochs,\n",
    "          verbose=1,\n",
    "          validation_data=(x_test, y_test))\n",
    "score = model.evaluate(x_test, y_test, verbose=0)\n",
    "print('Test loss:', score[0])\n",
    "print('Test accuracy:', score[1])\n",
    "scores['param_tanh']=[]\n",
    "scores['param_tanh'].append(score[1])\n",
    "scores['param_tanh'].append(score[2])\n",
    "scores['param_tanh'].append(score[3])\n",
    "scores['param_tanh'].append(score[4])"
   ]
  },
  {
   "cell_type": "markdown",
   "metadata": {},
   "source": [
    "# param_sigmoid"
   ]
  },
  {
   "cell_type": "code",
   "execution_count": 11,
   "metadata": {},
   "outputs": [],
   "source": [
    "model = Sequential()\n",
    "model.add(Conv2D(32, kernel_size=(3, 3),activation='param_sigmoid',input_shape=(32,32,1)))\n",
    "model.add(Conv2D(64, (3, 3), activation='param_sigmoid'))\n",
    "model.add(MaxPooling2D(pool_size=(2, 2)))\n",
    "model.add(Dropout(0.25))\n",
    "model.add(Flatten())\n",
    "model.add(Dense(128, activation='param_sigmoid'))\n",
    "model.add(Dropout(0.5))\n",
    "model.add(Dense(10, activation='softmax'))\n"
   ]
  },
  {
   "cell_type": "code",
   "execution_count": 12,
   "metadata": {},
   "outputs": [
    {
     "name": "stdout",
     "output_type": "stream",
     "text": [
      "Epoch 1/12\n",
      "107/107 [==============================] - 19s 179ms/step - loss: 0.4654 - accuracy: 2.9412e-05 - precision: 0.9212 - recall: 0.7929 - auc: 0.9867 - val_loss: 0.1334 - val_accuracy: 0.0000e+00 - val_precision: 0.9666 - val_recall: 0.9532 - val_auc: 0.9985\n",
      "Epoch 2/12\n",
      "107/107 [==============================] - 19s 174ms/step - loss: 0.1419 - accuracy: 8.9706e-04 - precision: 0.9623 - recall: 0.9486 - auc: 0.9978 - val_loss: 0.0850 - val_accuracy: 5.8824e-05 - val_precision: 0.9789 - val_recall: 0.9706 - val_auc: 0.9990\n",
      "Epoch 3/12\n",
      "107/107 [==============================] - 19s 174ms/step - loss: 0.0940 - accuracy: 0.0020 - precision: 0.9740 - recall: 0.9653 - auc: 0.9989 - val_loss: 0.0608 - val_accuracy: 0.0016 - val_precision: 0.9837 - val_recall: 0.9788 - val_auc: 0.9992\n",
      "Epoch 4/12\n",
      "107/107 [==============================] - 18s 172ms/step - loss: 0.0640 - accuracy: 0.0064 - precision: 0.9834 - recall: 0.9782 - auc: 0.9991 - val_loss: 0.0480 - val_accuracy: 0.0039 - val_precision: 0.9885 - val_recall: 0.9853 - val_auc: 0.9994\n",
      "Epoch 5/12\n",
      "107/107 [==============================] - 19s 174ms/step - loss: 0.0548 - accuracy: 0.0082 - precision: 0.9849 - recall: 0.9816 - auc: 0.9994 - val_loss: 0.0439 - val_accuracy: 0.0066 - val_precision: 0.9882 - val_recall: 0.9856 - val_auc: 0.9993\n",
      "Epoch 6/12\n",
      "107/107 [==============================] - 19s 175ms/step - loss: 0.0387 - accuracy: 0.0122 - precision: 0.9893 - recall: 0.9871 - auc: 0.9998 - val_loss: 0.0485 - val_accuracy: 0.0197 - val_precision: 0.9870 - val_recall: 0.9841 - val_auc: 0.9990\n",
      "Epoch 7/12\n",
      "107/107 [==============================] - 18s 172ms/step - loss: 0.0370 - accuracy: 0.0148 - precision: 0.9895 - recall: 0.9872 - auc: 0.9998 - val_loss: 0.0440 - val_accuracy: 0.0250 - val_precision: 0.9894 - val_recall: 0.9879 - val_auc: 0.9990\n",
      "Epoch 8/12\n",
      "107/107 [==============================] - 19s 173ms/step - loss: 0.0306 - accuracy: 0.0190 - precision: 0.9906 - recall: 0.9892 - auc: 0.9998 - val_loss: 0.0485 - val_accuracy: 0.0196 - val_precision: 0.9862 - val_recall: 0.9844 - val_auc: 0.9993\n",
      "Epoch 9/12\n",
      "107/107 [==============================] - 19s 174ms/step - loss: 0.0288 - accuracy: 0.0222 - precision: 0.9908 - recall: 0.9892 - auc: 0.9998 - val_loss: 0.0441 - val_accuracy: 0.0294 - val_precision: 0.9897 - val_recall: 0.9882 - val_auc: 0.9992\n",
      "Epoch 10/12\n",
      "107/107 [==============================] - 19s 174ms/step - loss: 0.0248 - accuracy: 0.0213 - precision: 0.9934 - recall: 0.9921 - auc: 0.9998 - val_loss: 0.0409 - val_accuracy: 0.0320 - val_precision: 0.9894 - val_recall: 0.9879 - val_auc: 0.9990\n",
      "Epoch 11/12\n",
      "107/107 [==============================] - 19s 177ms/step - loss: 0.0180 - accuracy: 0.0297 - precision: 0.9943 - recall: 0.9935 - auc: 0.9999 - val_loss: 0.0441 - val_accuracy: 0.0454 - val_precision: 0.9903 - val_recall: 0.9897 - val_auc: 0.9989\n",
      "Epoch 12/12\n",
      "107/107 [==============================] - 19s 175ms/step - loss: 0.0220 - accuracy: 0.0307 - precision: 0.9928 - recall: 0.9922 - auc: 0.9999 - val_loss: 0.0347 - val_accuracy: 0.0313 - val_precision: 0.9917 - val_recall: 0.9897 - val_auc: 0.9993\n",
      "Test loss: 0.03470582515001297\n",
      "Test accuracy: 0.03126470744609833\n"
     ]
    }
   ],
   "source": [
    "model.compile(loss=keras.losses.categorical_crossentropy,\n",
    "              optimizer='Adam',\n",
    "              metrics=['Accuracy','Precision','Recall','AUC'])\n",
    "model.fit(x_train, y_train,\n",
    "          batch_size=batch_size,\n",
    "          epochs=epochs,\n",
    "          verbose=1,\n",
    "          validation_data=(x_test, y_test))\n",
    "score = model.evaluate(x_test, y_test, verbose=0)\n",
    "print('Test loss:', score[0])\n",
    "print('Test accuracy:', score[1])\n",
    "scores['param_sigmoid']=[]\n",
    "scores['param_sigmoid'].append(score[1])\n",
    "scores['param_sigmoid'].append(score[2])\n",
    "scores['param_sigmoid'].append(score[3])\n",
    "scores['param_sigmoid'].append(score[4])"
   ]
  },
  {
   "cell_type": "markdown",
   "metadata": {},
   "source": [
    "# Relu"
   ]
  },
  {
   "cell_type": "code",
   "execution_count": 13,
   "metadata": {},
   "outputs": [],
   "source": [
    "model = Sequential()\n",
    "model.add(Conv2D(32, kernel_size=(3, 3),activation='relu',input_shape=(32,32,1)))\n",
    "model.add(Conv2D(64, (3, 3), activation='relu'))\n",
    "model.add(MaxPooling2D(pool_size=(2, 2)))\n",
    "model.add(Dropout(0.25))\n",
    "model.add(Flatten())\n",
    "model.add(Dense(128, activation='relu'))\n",
    "model.add(Dropout(0.5))\n",
    "model.add(Dense(10, activation='softmax'))\n"
   ]
  },
  {
   "cell_type": "code",
   "execution_count": 14,
   "metadata": {},
   "outputs": [
    {
     "name": "stdout",
     "output_type": "stream",
     "text": [
      "Epoch 1/12\n",
      "107/107 [==============================] - 14s 133ms/step - loss: 0.5401 - accuracy: 5.8824e-05 - precision: 0.9112 - recall: 0.7496 - auc: 0.9832 - val_loss: 0.1216 - val_accuracy: 0.0000e+00 - val_precision: 0.9686 - val_recall: 0.9541 - val_auc: 0.9987\n",
      "Epoch 2/12\n",
      "107/107 [==============================] - 13s 125ms/step - loss: 0.1547 - accuracy: 8.8971e-04 - precision: 0.9617 - recall: 0.9414 - auc: 0.9979 - val_loss: 0.0582 - val_accuracy: 1.1765e-04 - val_precision: 0.9861 - val_recall: 0.9803 - val_auc: 0.9994\n",
      "Epoch 3/12\n",
      "107/107 [==============================] - 13s 124ms/step - loss: 0.1007 - accuracy: 0.0033 - precision: 0.9742 - recall: 0.9618 - auc: 0.9990 - val_loss: 0.0455 - val_accuracy: 0.0061 - val_precision: 0.9888 - val_recall: 0.9838 - val_auc: 0.9991\n",
      "Epoch 4/12\n",
      "107/107 [==============================] - 13s 125ms/step - loss: 0.0739 - accuracy: 0.0075 - precision: 0.9809 - recall: 0.9738 - auc: 0.9993 - val_loss: 0.0361 - val_accuracy: 0.0096 - val_precision: 0.9900 - val_recall: 0.9885 - val_auc: 0.9995\n",
      "Epoch 5/12\n",
      "107/107 [==============================] - 13s 121ms/step - loss: 0.0563 - accuracy: 0.0116 - precision: 0.9842 - recall: 0.9803 - auc: 0.9995 - val_loss: 0.0377 - val_accuracy: 0.0171 - val_precision: 0.9891 - val_recall: 0.9871 - val_auc: 0.9993\n",
      "Epoch 6/12\n",
      "107/107 [==============================] - 13s 122ms/step - loss: 0.0457 - accuracy: 0.0164 - precision: 0.9866 - recall: 0.9835 - auc: 0.9998 - val_loss: 0.0367 - val_accuracy: 0.0274 - val_precision: 0.9888 - val_recall: 0.9865 - val_auc: 0.9993\n",
      "Epoch 7/12\n",
      "107/107 [==============================] - 13s 122ms/step - loss: 0.0435 - accuracy: 0.0190 - precision: 0.9878 - recall: 0.9851 - auc: 0.9996 - val_loss: 0.0310 - val_accuracy: 0.0259 - val_precision: 0.9909 - val_recall: 0.9891 - val_auc: 0.9997\n",
      "Epoch 8/12\n",
      "107/107 [==============================] - 13s 120ms/step - loss: 0.0331 - accuracy: 0.0241 - precision: 0.9902 - recall: 0.9881 - auc: 0.9998 - val_loss: 0.0317 - val_accuracy: 0.0354 - val_precision: 0.9923 - val_recall: 0.9909 - val_auc: 0.9993\n",
      "Epoch 9/12\n",
      "107/107 [==============================] - 13s 120ms/step - loss: 0.0295 - accuracy: 0.0271 - precision: 0.9919 - recall: 0.9896 - auc: 0.9997 - val_loss: 0.0355 - val_accuracy: 0.0407 - val_precision: 0.9906 - val_recall: 0.9891 - val_auc: 0.9992\n",
      "Epoch 10/12\n",
      "107/107 [==============================] - 13s 122ms/step - loss: 0.0328 - accuracy: 0.0288 - precision: 0.9904 - recall: 0.9883 - auc: 0.9997 - val_loss: 0.0338 - val_accuracy: 0.0369 - val_precision: 0.9918 - val_recall: 0.9903 - val_auc: 0.9990\n",
      "Epoch 11/12\n",
      "107/107 [==============================] - 13s 122ms/step - loss: 0.0263 - accuracy: 0.0321 - precision: 0.9922 - recall: 0.9907 - auc: 0.9997 - val_loss: 0.0285 - val_accuracy: 0.0433 - val_precision: 0.9923 - val_recall: 0.9906 - val_auc: 0.9992\n",
      "Epoch 12/12\n",
      "107/107 [==============================] - 13s 120ms/step - loss: 0.0237 - accuracy: 0.0359 - precision: 0.9930 - recall: 0.9923 - auc: 0.9998 - val_loss: 0.0336 - val_accuracy: 0.0467 - val_precision: 0.9912 - val_recall: 0.9885 - val_auc: 0.9990\n",
      "Test loss: 0.033557262271642685\n",
      "Test accuracy: 0.04673529416322708\n"
     ]
    }
   ],
   "source": [
    "model.compile(loss=keras.losses.categorical_crossentropy,\n",
    "              optimizer='Adam',\n",
    "              metrics=['Accuracy','Precision','Recall','AUC'])\n",
    "model.fit(x_train, y_train,\n",
    "          batch_size=batch_size,\n",
    "          epochs=epochs,\n",
    "          verbose=1,\n",
    "          validation_data=(x_test, y_test))\n",
    "score = model.evaluate(x_test, y_test, verbose=0)\n",
    "print('Test loss:', score[0])\n",
    "print('Test accuracy:', score[1])\n",
    "scores['relu']=[]\n",
    "scores['relu'].append(score[1])\n",
    "scores['relu'].append(score[2])\n",
    "scores['relu'].append(score[3])\n",
    "scores['relu'].append(score[4])"
   ]
  },
  {
   "cell_type": "markdown",
   "metadata": {},
   "source": [
    "# tanh"
   ]
  },
  {
   "cell_type": "code",
   "execution_count": 15,
   "metadata": {},
   "outputs": [],
   "source": [
    "model = Sequential()\n",
    "model.add(Conv2D(32, kernel_size=(3, 3),activation='tanh',input_shape=(32,32,1)))\n",
    "model.add(Conv2D(64, (3, 3), activation='tanh'))\n",
    "model.add(MaxPooling2D(pool_size=(2, 2)))\n",
    "model.add(Dropout(0.25))\n",
    "model.add(Flatten())\n",
    "model.add(Dense(128, activation='tanh'))\n",
    "model.add(Dropout(0.5))\n",
    "model.add(Dense(10, activation='softmax'))"
   ]
  },
  {
   "cell_type": "code",
   "execution_count": 16,
   "metadata": {},
   "outputs": [
    {
     "name": "stdout",
     "output_type": "stream",
     "text": [
      "Epoch 1/12\n",
      "107/107 [==============================] - 13s 126ms/step - loss: 0.4779 - accuracy: 0.0000e+00 - precision: 0.9075 - recall: 0.8155 - auc: 0.9837 - val_loss: 0.1668 - val_accuracy: 0.0000e+00 - val_precision: 0.9608 - val_recall: 0.9376 - val_auc: 0.9981\n",
      "Epoch 2/12\n",
      "107/107 [==============================] - 13s 123ms/step - loss: 0.1739 - accuracy: 0.0000e+00 - precision: 0.9598 - recall: 0.9374 - auc: 0.9972 - val_loss: 0.1206 - val_accuracy: 0.0000e+00 - val_precision: 0.9684 - val_recall: 0.9550 - val_auc: 0.9989\n",
      "Epoch 3/12\n",
      "107/107 [==============================] - 13s 124ms/step - loss: 0.1238 - accuracy: 0.0000e+00 - precision: 0.9706 - recall: 0.9551 - auc: 0.9983 - val_loss: 0.0975 - val_accuracy: 0.0000e+00 - val_precision: 0.9765 - val_recall: 0.9653 - val_auc: 0.9992\n",
      "Epoch 4/12\n",
      "107/107 [==============================] - 13s 125ms/step - loss: 0.0937 - accuracy: 0.0000e+00 - precision: 0.9774 - recall: 0.9673 - auc: 0.9991 - val_loss: 0.0821 - val_accuracy: 0.0000e+00 - val_precision: 0.9807 - val_recall: 0.9712 - val_auc: 0.9992\n",
      "Epoch 5/12\n",
      "107/107 [==============================] - 13s 124ms/step - loss: 0.0693 - accuracy: 0.0000e+00 - precision: 0.9845 - recall: 0.9776 - auc: 0.9994 - val_loss: 0.0682 - val_accuracy: 0.0000e+00 - val_precision: 0.9840 - val_recall: 0.9776 - val_auc: 0.9994\n",
      "Epoch 6/12\n",
      "107/107 [==============================] - 13s 124ms/step - loss: 0.0548 - accuracy: 0.0000e+00 - precision: 0.9868 - recall: 0.9820 - auc: 0.9996 - val_loss: 0.0611 - val_accuracy: 0.0000e+00 - val_precision: 0.9843 - val_recall: 0.9782 - val_auc: 0.9994\n",
      "Epoch 7/12\n",
      "107/107 [==============================] - 13s 124ms/step - loss: 0.0478 - accuracy: 0.0000e+00 - precision: 0.9896 - recall: 0.9857 - auc: 0.9997 - val_loss: 0.0631 - val_accuracy: 0.0000e+00 - val_precision: 0.9838 - val_recall: 0.9797 - val_auc: 0.9992\n",
      "Epoch 8/12\n",
      "107/107 [==============================] - 13s 126ms/step - loss: 0.0415 - accuracy: 0.0000e+00 - precision: 0.9909 - recall: 0.9869 - auc: 0.9998 - val_loss: 0.0562 - val_accuracy: 0.0000e+00 - val_precision: 0.9858 - val_recall: 0.9797 - val_auc: 0.9995\n",
      "Epoch 9/12\n",
      "107/107 [==============================] - 13s 125ms/step - loss: 0.0360 - accuracy: 1.4706e-05 - precision: 0.9915 - recall: 0.9885 - auc: 0.9998 - val_loss: 0.0529 - val_accuracy: 0.0000e+00 - val_precision: 0.9864 - val_recall: 0.9824 - val_auc: 0.9994\n",
      "Epoch 10/12\n",
      "107/107 [==============================] - 13s 124ms/step - loss: 0.0311 - accuracy: 1.4706e-05 - precision: 0.9923 - recall: 0.9900 - auc: 0.9999 - val_loss: 0.0503 - val_accuracy: 0.0000e+00 - val_precision: 0.9885 - val_recall: 0.9841 - val_auc: 0.9996\n",
      "Epoch 11/12\n",
      "107/107 [==============================] - 13s 122ms/step - loss: 0.0237 - accuracy: 5.8824e-05 - precision: 0.9945 - recall: 0.9929 - auc: 0.9999 - val_loss: 0.0513 - val_accuracy: 0.0000e+00 - val_precision: 0.9870 - val_recall: 0.9853 - val_auc: 0.9991\n",
      "Epoch 12/12\n",
      "107/107 [==============================] - 14s 127ms/step - loss: 0.0295 - accuracy: 3.6765e-05 - precision: 0.9920 - recall: 0.9900 - auc: 0.9999 - val_loss: 0.0561 - val_accuracy: 0.0000e+00 - val_precision: 0.9853 - val_recall: 0.9826 - val_auc: 0.9990\n",
      "Test loss: 0.056074365973472595\n",
      "Test accuracy: 0.0\n"
     ]
    }
   ],
   "source": [
    "model.compile(loss=keras.losses.categorical_crossentropy,\n",
    "              optimizer='Adam',\n",
    "              metrics=['Accuracy','Precision','Recall','AUC'])\n",
    "model.fit(x_train, y_train,\n",
    "          batch_size=batch_size,\n",
    "          epochs=epochs,\n",
    "          verbose=1,\n",
    "          validation_data=(x_test, y_test))\n",
    "score = model.evaluate(x_test, y_test, verbose=0)\n",
    "print('Test loss:', score[0])\n",
    "print('Test accuracy:', score[1])\n",
    "scores['tanh']=[]\n",
    "scores['tanh'].append(score[1])\n",
    "scores['tanh'].append(score[2])\n",
    "scores['tanh'].append(score[3])\n",
    "scores['tanh'].append(score[4])"
   ]
  },
  {
   "cell_type": "markdown",
   "metadata": {},
   "source": [
    "# Sigmoid"
   ]
  },
  {
   "cell_type": "code",
   "execution_count": 17,
   "metadata": {},
   "outputs": [],
   "source": [
    "model = Sequential()\n",
    "model.add(Conv2D(32, kernel_size=(3, 3),activation='sigmoid',input_shape=(32,32,1)))\n",
    "model.add(Conv2D(64, (3, 3), activation='sigmoid'))\n",
    "model.add(MaxPooling2D(pool_size=(2, 2)))\n",
    "model.add(Dropout(0.25))\n",
    "model.add(Flatten())\n",
    "model.add(Dense(128, activation='sigmoid'))\n",
    "model.add(Dropout(0.5))\n",
    "model.add(Dense(10, activation='softmax'))"
   ]
  },
  {
   "cell_type": "code",
   "execution_count": 18,
   "metadata": {},
   "outputs": [
    {
     "name": "stdout",
     "output_type": "stream",
     "text": [
      "Epoch 1/12\n",
      "107/107 [==============================] - 14s 135ms/step - loss: 2.7427 - accuracy: 0.0000e+00 - precision: 0.0764 - recall: 0.0032 - auc: 0.4989 - val_loss: 2.3067 - val_accuracy: 0.0000e+00 - val_precision: 0.0000e+00 - val_recall: 0.0000e+00 - val_auc: 0.5000\n",
      "Epoch 2/12\n",
      "107/107 [==============================] - 13s 125ms/step - loss: 2.4549 - accuracy: 0.0000e+00 - precision: 0.1250 - recall: 7.3529e-05 - auc: 0.4995 - val_loss: 2.3059 - val_accuracy: 0.0000e+00 - val_precision: 0.0000e+00 - val_recall: 0.0000e+00 - val_auc: 0.5000\n",
      "Epoch 3/12\n",
      "107/107 [==============================] - 14s 127ms/step - loss: 2.4088 - accuracy: 0.0000e+00 - precision: 0.0000e+00 - recall: 0.0000e+00 - auc: 0.4963 - val_loss: 2.3044 - val_accuracy: 0.0000e+00 - val_precision: 0.0000e+00 - val_recall: 0.0000e+00 - val_auc: 0.5000\n",
      "Epoch 4/12\n",
      "107/107 [==============================] - 14s 126ms/step - loss: 2.3652 - accuracy: 0.0000e+00 - precision: 0.0000e+00 - recall: 0.0000e+00 - auc: 0.5011 - val_loss: 2.3049 - val_accuracy: 0.0000e+00 - val_precision: 0.0000e+00 - val_recall: 0.0000e+00 - val_auc: 0.5000\n",
      "Epoch 5/12\n",
      "107/107 [==============================] - 13s 126ms/step - loss: 2.3479 - accuracy: 0.0000e+00 - precision: 0.0000e+00 - recall: 0.0000e+00 - auc: 0.4952 - val_loss: 2.3039 - val_accuracy: 0.0000e+00 - val_precision: 0.0000e+00 - val_recall: 0.0000e+00 - val_auc: 0.5000\n",
      "Epoch 6/12\n",
      "107/107 [==============================] - 14s 128ms/step - loss: 2.3308 - accuracy: 0.0000e+00 - precision: 0.0000e+00 - recall: 0.0000e+00 - auc: 0.4974 - val_loss: 2.3067 - val_accuracy: 0.0000e+00 - val_precision: 0.0000e+00 - val_recall: 0.0000e+00 - val_auc: 0.5000\n",
      "Epoch 7/12\n",
      "107/107 [==============================] - 14s 132ms/step - loss: 2.3216 - accuracy: 0.0000e+00 - precision: 0.0000e+00 - recall: 0.0000e+00 - auc: 0.4959 - val_loss: 2.3050 - val_accuracy: 0.0000e+00 - val_precision: 0.0000e+00 - val_recall: 0.0000e+00 - val_auc: 0.5000\n",
      "Epoch 8/12\n",
      "107/107 [==============================] - 14s 126ms/step - loss: 2.3146 - accuracy: 0.0000e+00 - precision: 0.0000e+00 - recall: 0.0000e+00 - auc: 0.4986 - val_loss: 2.3041 - val_accuracy: 0.0000e+00 - val_precision: 0.0000e+00 - val_recall: 0.0000e+00 - val_auc: 0.5000\n",
      "Epoch 9/12\n",
      "107/107 [==============================] - 13s 123ms/step - loss: 2.3138 - accuracy: 0.0000e+00 - precision: 0.0000e+00 - recall: 0.0000e+00 - auc: 0.4938 - val_loss: 2.3047 - val_accuracy: 0.0000e+00 - val_precision: 0.0000e+00 - val_recall: 0.0000e+00 - val_auc: 0.5000\n",
      "Epoch 10/12\n",
      "107/107 [==============================] - 13s 125ms/step - loss: 2.3102 - accuracy: 0.0000e+00 - precision: 0.0000e+00 - recall: 0.0000e+00 - auc: 0.4945 - val_loss: 2.3032 - val_accuracy: 0.0000e+00 - val_precision: 0.0000e+00 - val_recall: 0.0000e+00 - val_auc: 0.5000\n",
      "Epoch 11/12\n",
      "107/107 [==============================] - 13s 126ms/step - loss: 2.3081 - accuracy: 0.0000e+00 - precision: 0.0000e+00 - recall: 0.0000e+00 - auc: 0.5008 - val_loss: 2.3037 - val_accuracy: 0.0000e+00 - val_precision: 0.0000e+00 - val_recall: 0.0000e+00 - val_auc: 0.5000\n",
      "Epoch 12/12\n",
      "107/107 [==============================] - 13s 126ms/step - loss: 2.3080 - accuracy: 0.0000e+00 - precision: 0.0000e+00 - recall: 0.0000e+00 - auc: 0.4972 - val_loss: 2.3035 - val_accuracy: 0.0000e+00 - val_precision: 0.0000e+00 - val_recall: 0.0000e+00 - val_auc: 0.5000\n",
      "Test loss: 2.3034615516662598\n",
      "Test accuracy: 0.0\n"
     ]
    }
   ],
   "source": [
    "model.compile(loss=keras.losses.categorical_crossentropy,\n",
    "              optimizer='Adam',\n",
    "              metrics=['Accuracy','Precision','Recall','AUC'])\n",
    "model.fit(x_train, y_train,\n",
    "          batch_size=batch_size,\n",
    "          epochs=epochs,\n",
    "          verbose=1,\n",
    "          validation_data=(x_test, y_test))\n",
    "score = model.evaluate(x_test, y_test, verbose=0)\n",
    "print('Test loss:', score[0])\n",
    "print('Test accuracy:', score[1])\n",
    "scores['sigmoid']=[]\n",
    "scores['sigmoid'].append(score[1])\n",
    "scores['sigmoid'].append(score[2])\n",
    "scores['sigmoid'].append(score[3])\n",
    "scores['sigmoid'].append(score[4])"
   ]
  },
  {
   "cell_type": "code",
   "execution_count": 31,
   "metadata": {},
   "outputs": [],
   "source": [
    "\n",
    "activation=list(scores.keys())\n",
    "metrics=list(scores.values())"
   ]
  },
  {
   "cell_type": "code",
   "execution_count": 36,
   "metadata": {},
   "outputs": [
    {
     "data": {
      "image/png": "[encoded data removed]",
      "text/plain": [
       "<Figure size 432x288 with 1 Axes>"
      ]
     },
     "metadata": {
      "needs_background": "light"
     },
     "output_type": "display_data"
    }
   ],
   "source": [
    "import seaborn as sns\n",
    "ax=sns.lineplot(x=activation,y=[item[0] for item in metrics])\n",
    "ax.set(xlabel='Activations', ylabel='Accuracy')\n",
    "plt.show()"
   ]
  },
  {
   "cell_type": "code",
   "execution_count": 38,
   "metadata": {},
   "outputs": [
    {
     "data": {
      "image/png": "[encoded data removed]",
      "text/plain": [
       "<Figure size 432x288 with 1 Axes>"
      ]
     },
     "metadata": {
      "needs_background": "light"
     },
     "output_type": "display_data"
    }
   ],
   "source": [
    "ax=sns.lineplot(x=activation,y=[item[1] for item in metrics])\n",
    "ax.set(xlabel='Activations', ylabel='Precision')\n",
    "plt.show()"
   ]
  },
  {
   "cell_type": "code",
   "execution_count": 39,
   "metadata": {},
   "outputs": [
    {
     "data": {
      "image/png": "[encoded data removed]",
      "text/plain": [
       "<Figure size 432x288 with 1 Axes>"
      ]
     },
     "metadata": {
      "needs_background": "light"
     },
     "output_type": "display_data"
    }
   ],
   "source": [
    "ax=sns.lineplot(x=activation,y=[item[2] for item in metrics])\n",
    "ax.set(xlabel='Activations', ylabel='Recall')\n",
    "plt.show()"
   ]
  },
  {
   "cell_type": "code",
   "execution_count": 40,
   "metadata": {},
   "outputs": [
    {
     "data": {
      "image/png": "[encoded data removed]",
      "text/plain": [
       "<Figure size 432x288 with 1 Axes>"
      ]
     },
     "metadata": {
      "needs_background": "light"
     },
     "output_type": "display_data"
    }
   ],
   "source": [
    "ax=sns.lineplot(x=activation,y=[item[3] for item in metrics])\n",
    "ax.set(xlabel='Activations', ylabel='AUC')\n",
    "plt.show()"
   ]
  },
  {
   "cell_type": "code",
   "execution_count": 41,
   "metadata": {},
   "outputs": [
    {
     "data": {
      "text/plain": [
       "[[0.021176470443606377,\n",
       "  0.9852158427238464,\n",
       "  0.9800000190734863,\n",
       "  0.9992630481719971],\n",
       " [0.018176469951868057,\n",
       "  0.9926275610923767,\n",
       "  0.9900000095367432,\n",
       "  0.9994951486587524],\n",
       " [0.03126470744609833,\n",
       "  0.9917477369308472,\n",
       "  0.9897058606147766,\n",
       "  0.9993206262588501],\n",
       " [0.04673529416322708,\n",
       "  0.9911530613899231,\n",
       "  0.9885293841362,\n",
       "  0.9990370273590088],\n",
       " [0.0, 0.9852550625801086, 0.9826470613479614, 0.9989621639251709],\n",
       " [0.0, 0.0, 0.0, 0.5]]"
      ]
     },
     "execution_count": 41,
     "metadata": {},
     "output_type": "execute_result"
    }
   ],
   "source": [
    "metrics"
   ]
  },
  {
   "cell_type": "code",
   "execution_count": null,
   "metadata": {},
   "outputs": [],
   "source": []
  }
 ],
 "metadata": {
  "kernelspec": {
   "display_name": "Python 3",
   "language": "python",
   "name": "python3"
  },
  "language_info": {
   "codemirror_mode": {
    "name": "ipython",
    "version": 3
   },
   "file_extension": ".py",
   "mimetype": "text/x-python",
   "name": "python",
   "nbconvert_exporter": "python",
   "pygments_lexer": "ipython3",
   "version": "3.8.5"
  }
 },
 "nbformat": 4,
 "nbformat_minor": 2
}
