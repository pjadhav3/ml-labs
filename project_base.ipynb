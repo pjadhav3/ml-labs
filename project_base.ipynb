{
 "cells": [
  {
   "cell_type": "code",
   "execution_count": 1,
   "metadata": {},
   "outputs": [
    {
     "name": "stdout",
     "output_type": "stream",
     "text": [
      "Requirement already satisfied: opencv-python in c:\\users\\tagor\\anaconda3\\lib\\site-packages (4.4.0.46)\n",
      "Requirement already satisfied: numpy>=1.17.3 in c:\\users\\tagor\\anaconda3\\lib\\site-packages (from opencv-python) (1.18.5)\n"
     ]
    }
   ],
   "source": [
    "!pip install opencv-python\n"
   ]
  },
  {
   "cell_type": "code",
   "execution_count": 1,
   "metadata": {},
   "outputs": [
    {
     "data": {
      "text/plain": [
       "\"    \\nmisclassified_img = X_test[y_test != rfc_predictions][:30]\\ncorrect_lab = y_test[y_test != rfc_predictions][:30].to_numpy()\\nmisclassified_lab = rfc_predictions[y_test != rfc_predictions][:30]\\n\\n\\nfig,ax = plt.subplots(nrows=10,ncols=3, sharex=True, sharey=True,figsize=(30,30))\\nax= ax.flatten()\\n\\nfor i in range(30):\\n    img = misclassified_img.iloc[i].values.reshape(32,32)\\n    ax[i].imshow(img,cmap='Greys',interpolation='nearest')\\n    ax[i].set_title('%d) t: %s p: %s'%(i+1, correct_lab[i],misclassified_lab[i]))\\n    \\nax[0].set_xticks([])\\nax[0].set_yticks([])\\nplt.tight_layout()\\nplt.show()\\n\""
      ]
     },
     "execution_count": 1,
     "metadata": {},
     "output_type": "execute_result"
    }
   ],
   "source": [
    "# -*- coding: utf-8 -*-\n",
    "\"\"\"\n",
    "Created on Wed Nov  4 17:10:20 2020\n",
    "\n",
    "@author: Tagore Pothuneedi\n",
    "@data pre-processing:PJ\n",
    "\"\"\"\n",
    "\n",
    "import matplotlib.pyplot as plt #to plot required plots\n",
    "from skimage.transform import resize #to resize image \n",
    "from skimage.util import pad #to pad values in numpy array\n",
    "import numpy as np\n",
    "import pandas as pd\n",
    "from sklearn.metrics import accuracy_score, confusion_matrix, classification_report\n",
    "import os #to get paths of images\n",
    "import cv2 #to read images\n",
    "from sklearn.decomposition import PCA\n",
    "\n",
    "\n",
    "\n",
    "#function used to show the image\n",
    "def show_image(image_path,title='Image',cmap_type='gray'):\n",
    "    img_grey = cv2.imread(image_path, cv2.IMREAD_GRAYSCALE)\n",
    "    plt.imshow(img_grey,cmap=cmap_type)\n",
    "    plt.title(title)\n",
    "    plt.axis('off')\n",
    "    plt.show()\n",
    "\n",
    "# function to get all file paths from provided directory\n",
    "def get_list_of_files(dir_path):\n",
    "    # create a list of file and sub directories \n",
    "    # names in the given directory \n",
    "    files = os.listdir(dir_path)\n",
    "    all_files = list()\n",
    "    # Iterate over all the entries\n",
    "    for file in files:\n",
    "        # Create full path\n",
    "        fullPath = os.path.join(dir_path, file)\n",
    "        # If entry is a directory then get the list of files in this directory \n",
    "        if os.path.isdir(fullPath):\n",
    "            all_files = all_files + get_list_of_files(fullPath)\n",
    "        else:\n",
    "            all_files.append(fullPath)\n",
    "                \n",
    "    return all_files\n",
    "\n",
    "#function to get folder names from provided path : folder name is later used as target label\n",
    "def get_folder_name_list(dir_path):\n",
    "   base_path_folder_list=[]\n",
    "   for entry in os.listdir(dir_path):\n",
    "       if os.path.isdir(os.path.join(dir_path, entry)):\n",
    "           base_path_folder_list.append(entry) \n",
    "   return base_path_folder_list\n",
    "\n",
    "#white padding : padwithone black padding:pad with zero\n",
    "#used in preprocessing of image, for adding 2 pixel border from all sides\n",
    "def padwithzeros(vector, pad_width, iaxis, kwargs):\n",
    "    vector[:pad_width[0]] = 0\n",
    "    vector[-pad_width[1]:] = 0\n",
    "    return vector\n",
    "\n",
    "def pre_process_image(img_path):\n",
    "    #show_image(img_path,'greyimg')\n",
    "    img_grey = cv2.imread(img_path, cv2.IMREAD_GRAYSCALE)\n",
    "    \n",
    "        \n",
    "    # define a threshold, 128 is the middle of black and white in grey scale\n",
    "    thresh = 128\n",
    "    \n",
    "    # threshold the image\n",
    "    img_binary = cv2.threshold(img_grey, thresh, 255, cv2.THRESH_BINARY)[1]\n",
    "    \n",
    "    #invert the binary image to get clear image\n",
    "    inverted_binary_image =  cv2.bitwise_not(img_binary)\n",
    "    fimg = np.where(inverted_binary_image>0,1,inverted_binary_image)\n",
    "    \n",
    "    \n",
    "    '''\n",
    "    # can be used when image is not 32 * 32 pixel \n",
    "    resized_img = resize(inverted_binary_image,(28,28),anti_aliasing=False) # second parameter : scale here 2 double the size\n",
    "    resized_img_with_padding = pad(resized_img,2,padwithzeros)\n",
    "    fimg = np.where(resized_img_with_padding>0,1,resized_img_with_padding)\n",
    "    '''\n",
    "    #normalized_fimg = fimg / np.linalg.norm(fimg)\n",
    "    normalized_fimg = fimg \n",
    "    \n",
    "    #filters\n",
    "    #sobelx = cv2.Sobel(fimg,cv2.CV_64F,1,0,ksize=5)\n",
    "    #sobely = cv2.Sobel(fimg,cv2.CV_64F,0,1,ksize=5)\n",
    "    #laplacian = cv2.Laplacian(fimg,cv2.CV_64F)\n",
    "    \n",
    "    return normalized_fimg.flatten()\n",
    "\n",
    "#get list of preprocessed images\n",
    "def load_images_list(img_paths):\n",
    "    images=[]\n",
    "    for img_path in img_paths:\n",
    "        fimg = pre_process_image(img_path)\n",
    "        images.append(fimg)\n",
    "    return images\n",
    "\n",
    "# base path for dataset\n",
    "base_path=r\"C:\\Users\\tagor\\Desktop\\ml\\DevanagariHandwrittenCharacterDataset\\Train\"\n",
    "\n",
    "\n",
    "\n",
    "#base_path_folder_list = get_folder_name_list(base_path)    \n",
    "#print(base_path_folder_list)\n",
    "\n",
    "\n",
    "#base_path_folder_list=['character_1_ka','character_2_kha','character_3_ga','character_4_gha','character_5_kna']\n",
    "base_path_folder_list=['digit_0', 'digit_1', 'digit_2', 'digit_3', 'digit_4', 'digit_5', 'digit_6', 'digit_7', 'digit_8', 'digit_9']\n",
    "\n",
    "df = pd.DataFrame()\n",
    "i=0\n",
    "for folder_name in base_path_folder_list:\n",
    "    img_path=base_path+'/'+folder_name+'/'\n",
    "    images_path_list = get_list_of_files(img_path)\n",
    "    images_flattened = load_images_list(images_path_list)\n",
    "    df_images = pd.DataFrame(images_flattened)\n",
    "    df_images['label'] = i\n",
    "    i+=1\n",
    "    \n",
    "    ##subdivide\n",
    "    ##astract\n",
    "    \n",
    "    df=df.append(df_images,ignore_index=True)\n",
    "    \n",
    "\n",
    "from sklearn.ensemble import RandomForestClassifier\n",
    "from sklearn.model_selection import train_test_split\n",
    "\n",
    "#shuffle records in df\n",
    "df = df.sample(frac = 1) \n",
    "X=df.iloc[:,df.columns != 'label']\n",
    "y=df['label']\n",
    "\n",
    "\n",
    "X_train,X_test,y_train,y_test= train_test_split(X,y,test_size=.2,random_state=1111,stratify=y)\n",
    "\n",
    "\n",
    "#testing random image\n",
    "test_base_path = r'C:\\Users\\tagor\\Desktop\\ml\\DevanagariHandwrittenCharacterDataset\\Test'\n",
    "test_img_path=test_base_path+'digit_7/5771.png'\n",
    "\n",
    "\n",
    "def test_char(img_path):\n",
    "    test_img = pre_process_image(img_path)\n",
    "    test_img=test_img.reshape(1,-1)\n",
    "    print(\"rfc: {0}\".format(rfc.predict(test_img)))\n",
    "    #print(\"dtree_model: {0}\".format(dtree_model.predict(test_img)))\n",
    "    print(\"svm_model_linear: {0}\".format(svm_model_linear.predict(test_img)))\n",
    "    print(\"knn: {0}\".format(knn.predict(test_img)))\n",
    "    print(\"gnb: {0}\".format(gnb.predict(test_img)))\n",
    "    \n",
    "    \n",
    "\n"
   ]
  },
  {
   "cell_type": "code",
   "execution_count": 2,
   "metadata": {},
   "outputs": [],
   "source": [
    "\n",
    "##################\n",
    "#CNN \n",
    "##################\n",
    "import tensorflow as tf\n",
    "import keras\n",
    "#from keras.datasets import mnist\n",
    "from keras.models import Sequential\n",
    "from keras.layers import Dense, Dropout, Flatten\n",
    "from keras.layers import Conv2D, MaxPooling2D\n",
    "import numpy as np\n",
    "from keras.layers.core import Activation\n",
    "from keras.models import Sequential\n",
    "\n",
    "import keras.backend as K\n",
    "#from keras.backend.tensorflow_backend import get_session as sess"
   ]
  },
  {
   "cell_type": "code",
   "execution_count": 3,
   "metadata": {},
   "outputs": [
    {
     "data": {
      "text/plain": [
       "((13600, 1024), (17000, 1024))"
      ]
     },
     "execution_count": 3,
     "metadata": {},
     "output_type": "execute_result"
    }
   ],
   "source": [
    "X_train.shape,X.shape"
   ]
  },
  {
   "cell_type": "code",
   "execution_count": 4,
   "metadata": {},
   "outputs": [
    {
     "name": "stdout",
     "output_type": "stream",
     "text": [
      "x_train shape: (13600, 32, 32, 1)\n",
      "13600 train samples\n",
      "3400 test samples\n"
     ]
    }
   ],
   "source": [
    "batch_size = 128\n",
    "num_classes = 10\n",
    "epochs = 12\n",
    "\n",
    "# input image dimensions\n",
    "img_rows, img_cols = 32,32\n",
    "\n",
    "# the data, split between train and test sets\n",
    "\n",
    "x_train = np.asarray(X_train).reshape(13600,32,32,1)\n",
    "x_test = np.asarray(X_test).reshape(3400,32,32,1)\n",
    "\n",
    "#x_train = X_train\n",
    "#x_test = X_test\n",
    "\n",
    "print('x_train shape:', x_train.shape)\n",
    "print(x_train.shape[0], 'train samples')\n",
    "print(x_test.shape[0], 'test samples')\n",
    "\n",
    "# convert class vectors to binary class matrices\n",
    "y_train = keras.utils.to_categorical(y_train, 10)\n",
    "y_test = keras.utils.to_categorical(y_test, 10)"
   ]
  },
  {
   "cell_type": "code",
   "execution_count": 5,
   "metadata": {},
   "outputs": [],
   "source": [
    "from keras.backend import sigmoid,tanh,exp\n",
    "from keras.utils.generic_utils import get_custom_objects\n",
    "from keras.layers import Activation\n",
    "\n",
    "def swish(x, beta = 2):\n",
    "    return (x * sigmoid(beta * x))\n",
    "def param_tanh(x):\n",
    "    return x+tanh(x)\n",
    "def relu_moid(x):\n",
    "    #if x > 0.0:\n",
    "    #    return x\n",
    "    #else:\n",
    "    #    return 1/1+exp(-x)\n",
    "\n",
    "    return K.switch(x>0,x,sigmoid(x))\n",
    "\n",
    "def param_sigmoid(x):\n",
    "    return x/(1+exp(-x))\n",
    "    #print(x)\n",
    "    \n",
    "    \n",
    "\n",
    "get_custom_objects().update({'swish': Activation(swish)})\n",
    "get_custom_objects().update({'param_tanh': Activation(param_tanh)})\n",
    "get_custom_objects().update({'relu_moid': Activation(relu_moid)})\n",
    "get_custom_objects().update({'param_sigmoid': Activation(param_sigmoid)})"
   ]
  },
  {
   "cell_type": "markdown",
   "metadata": {},
   "source": [
    "# Relu_moid"
   ]
  },
  {
   "cell_type": "code",
   "execution_count": 13,
   "metadata": {},
   "outputs": [],
   "source": [
    "model = Sequential()\n",
    "model.add(Conv2D(32, kernel_size=(3, 3),activation='relu_moid',input_shape=(32,32,1)))\n",
    "model.add(Conv2D(64, (3, 3), activation='relu_moid'))\n",
    "model.add(MaxPooling2D(pool_size=(2, 2)))\n",
    "model.add(Dropout(0.25))\n",
    "model.add(Flatten())\n",
    "model.add(Dense(128, activation='relu_moid'))\n",
    "model.add(Dropout(0.5))\n",
    "model.add(Dense(10, activation='softmax'))\n",
    "list_of_scores={}"
   ]
  },
  {
   "cell_type": "code",
   "execution_count": 14,
   "metadata": {},
   "outputs": [
    {
     "data": {
      "text/plain": [
       "((3400, 32, 32, 1), (3400, 10), (13600, 32, 32, 1), (13600, 10))"
      ]
     },
     "execution_count": 14,
     "metadata": {},
     "output_type": "execute_result"
    }
   ],
   "source": [
    "#optimizer=keras.optimizers.Adadelta(),\n",
    "x_test.shape,y_test.shape,x_train.shape,y_train.shape"
   ]
  },
  {
   "cell_type": "code",
   "execution_count": 15,
   "metadata": {
    "scrolled": true
   },
   "outputs": [
    {
     "name": "stdout",
     "output_type": "stream",
     "text": [
      "Epoch 1/12\n",
      "107/107 [==============================] - 16s 146ms/step - loss: 2.5296 - accuracy: 0.1008 - precision: 0.1008 - recall: 0.0038 - auc: 0.5066 - val_loss: 2.3021 - val_accuracy: 0.1000 - val_precision: 0.0000e+00 - val_recall: 0.0000e+00 - val_auc: 0.5007\n",
      "Epoch 2/12\n",
      "107/107 [==============================] - 15s 141ms/step - loss: 2.3028 - accuracy: 0.0965 - precision: 0.0000e+00 - recall: 0.0000e+00 - auc: 0.5030 - val_loss: 2.3000 - val_accuracy: 0.1000 - val_precision: 0.0000e+00 - val_recall: 0.0000e+00 - val_auc: 0.5170\n",
      "Epoch 3/12\n",
      "107/107 [==============================] - 15s 138ms/step - loss: 2.3032 - accuracy: 0.1102 - precision: 0.0526 - recall: 7.3529e-05 - auc: 0.5118 - val_loss: 2.3350 - val_accuracy: 0.1000 - val_precision: 0.0000e+00 - val_recall: 0.0000e+00 - val_auc: 0.5317\n",
      "Epoch 4/12\n",
      "107/107 [==============================] - 15s 138ms/step - loss: 2.2144 - accuracy: 0.1401 - precision: 0.8715 - recall: 0.0115 - auc: 0.5821 - val_loss: 1.5046 - val_accuracy: 0.6406 - val_precision: 0.9887 - val_recall: 0.0515 - val_auc: 0.9329\n",
      "Epoch 5/12\n",
      "107/107 [==============================] - 15s 139ms/step - loss: 0.9583 - accuracy: 0.6502 - precision: 0.8304 - recall: 0.5251 - auc: 0.9478 - val_loss: 0.2851 - val_accuracy: 0.9124 - val_precision: 0.9401 - val_recall: 0.8868 - val_auc: 0.9947\n",
      "Epoch 6/12\n",
      "107/107 [==============================] - 15s 138ms/step - loss: 0.4413 - accuracy: 0.8512 - precision: 0.8963 - recall: 0.8068 - auc: 0.9869 - val_loss: 0.2254 - val_accuracy: 0.9329 - val_precision: 0.9586 - val_recall: 0.9115 - val_auc: 0.9961\n",
      "Epoch 7/12\n",
      "107/107 [==============================] - 15s 141ms/step - loss: 0.3258 - accuracy: 0.8940 - precision: 0.9212 - recall: 0.8685 - auc: 0.9918 - val_loss: 0.1359 - val_accuracy: 0.9582 - val_precision: 0.9694 - val_recall: 0.9488 - val_auc: 0.9982\n",
      "Epoch 8/12\n",
      "107/107 [==============================] - 15s 140ms/step - loss: 0.2331 - accuracy: 0.9258 - precision: 0.9414 - recall: 0.9107 - auc: 0.9946 - val_loss: 0.0982 - val_accuracy: 0.9700 - val_precision: 0.9753 - val_recall: 0.9644 - val_auc: 0.9988\n",
      "Epoch 9/12\n",
      "107/107 [==============================] - 15s 138ms/step - loss: 0.1793 - accuracy: 0.9391 - precision: 0.9510 - recall: 0.9282 - auc: 0.9968 - val_loss: 0.0714 - val_accuracy: 0.9765 - val_precision: 0.9808 - val_recall: 0.9753 - val_auc: 0.9988\n",
      "Epoch 10/12\n",
      "107/107 [==============================] - 15s 138ms/step - loss: 0.1460 - accuracy: 0.9531 - precision: 0.9611 - recall: 0.9453 - auc: 0.9975 - val_loss: 0.0578 - val_accuracy: 0.9835 - val_precision: 0.9852 - val_recall: 0.9818 - val_auc: 0.9994\n",
      "Epoch 11/12\n",
      "107/107 [==============================] - 15s 139ms/step - loss: 0.1197 - accuracy: 0.9608 - precision: 0.9673 - recall: 0.9553 - auc: 0.9983 - val_loss: 0.0459 - val_accuracy: 0.9874 - val_precision: 0.9885 - val_recall: 0.9856 - val_auc: 0.9994\n",
      "Epoch 12/12\n",
      "107/107 [==============================] - 15s 138ms/step - loss: 0.0917 - accuracy: 0.9714 - precision: 0.9760 - recall: 0.9677 - auc: 0.9986 - val_loss: 0.0458 - val_accuracy: 0.9859 - val_precision: 0.9888 - val_recall: 0.9850 - val_auc: 0.9991\n",
      "Test loss: 0.04576928913593292\n",
      "Test accuracy: 0.9858823418617249\n"
     ]
    },
    {
     "data": {
      "image/png": "[encoded data removed]",
      "text/plain": [
       "<Figure size 432x288 with 1 Axes>"
      ]
     },
     "metadata": {
      "needs_background": "light"
     },
     "output_type": "display_data"
    }
   ],
   "source": [
    "model.compile(loss=keras.losses.categorical_crossentropy,\n",
    "              optimizer='Adam',\n",
    "              metrics=['accuracy','Precision','Recall','AUC'])\n",
    "history=model.fit(x_train, y_train,\n",
    "          batch_size=batch_size,\n",
    "          epochs=epochs,\n",
    "          verbose=1,\n",
    "          validation_data=(x_test, y_test))\n",
    "score = model.evaluate(x_test, y_test, verbose=0)\n",
    "print('Test loss:', score[0])\n",
    "print('Test accuracy:', score[1])\n",
    "list_of_scores['relu_moid']=[]\n",
    "list_of_scores['relu_moid'].append(score[1])\n",
    "list_of_scores['relu_moid'].append(score[2])\n",
    "list_of_scores['relu_moid'].append(score[3])\n",
    "list_of_scores['relu_moid'].append(score[4])\n",
    "# summarize history for accuracy\n",
    "plt.plot(history.history['accuracy'])\n",
    "plt.plot(history.history['val_accuracy'])\n",
    "plt.title('model accuracy')\n",
    "plt.ylabel('accuracy')\n",
    "plt.xlabel('epoch')\n",
    "plt.legend(['train', 'test'], loc='upper left')\n",
    "plt.show()"
   ]
  },
  {
   "cell_type": "markdown",
   "metadata": {},
   "source": [
    "# param_tanh"
   ]
  },
  {
   "cell_type": "code",
   "execution_count": 28,
   "metadata": {},
   "outputs": [],
   "source": [
    "model1 = Sequential()\n",
    "model1.add(Conv2D(32, kernel_size=(3, 3),activation='param_tanh',input_shape=(32,32,1)))\n",
    "model1.add(Conv2D(64, (3, 3), activation='param_tanh'))\n",
    "model1.add(MaxPooling2D(pool_size=(2, 2)))\n",
    "model1.add(Dropout(0.25))\n",
    "model1.add(Flatten())\n",
    "model1.add(Dense(128, activation='param_tanh'))\n",
    "model1.add(Dropout(0.5))\n",
    "model1.add(Dense(10, activation='softmax'))\n"
   ]
  },
  {
   "cell_type": "code",
   "execution_count": 29,
   "metadata": {},
   "outputs": [
    {
     "name": "stdout",
     "output_type": "stream",
     "text": [
      "Epoch 1/12\n",
      "107/107 [==============================] - 14s 129ms/step - loss: 1.4476 - accuracy: 0.8193 - precision: 0.8273 - recall: 0.8160 - auc: 0.9474 - val_loss: 0.2820 - val_accuracy: 0.9306 - val_precision: 0.9332 - val_recall: 0.9285 - val_auc: 0.9900\n",
      "Epoch 2/12\n",
      "107/107 [==============================] - 13s 126ms/step - loss: 0.3041 - accuracy: 0.9187 - precision: 0.9227 - recall: 0.9160 - auc: 0.9897 - val_loss: 0.1621 - val_accuracy: 0.9585 - val_precision: 0.9621 - val_recall: 0.9565 - val_auc: 0.9957\n",
      "Epoch 3/12\n",
      "107/107 [==============================] - 13s 125ms/step - loss: 0.1914 - accuracy: 0.9493 - precision: 0.9518 - recall: 0.9465 - auc: 0.9947 - val_loss: 0.1294 - val_accuracy: 0.9626 - val_precision: 0.9659 - val_recall: 0.9594 - val_auc: 0.9964\n",
      "Epoch 4/12\n",
      "107/107 [==============================] - 13s 124ms/step - loss: 0.1350 - accuracy: 0.9582 - precision: 0.9617 - recall: 0.9561 - auc: 0.9969 - val_loss: 0.1010 - val_accuracy: 0.9729 - val_precision: 0.9755 - val_recall: 0.9700 - val_auc: 0.9980\n",
      "Epoch 5/12\n",
      "107/107 [==============================] - 14s 128ms/step - loss: 0.0880 - accuracy: 0.9724 - precision: 0.9749 - recall: 0.9704 - auc: 0.9983 - val_loss: 0.0965 - val_accuracy: 0.9697 - val_precision: 0.9734 - val_recall: 0.9685 - val_auc: 0.9979\n",
      "Epoch 6/12\n",
      "107/107 [==============================] - 13s 124ms/step - loss: 0.0730 - accuracy: 0.9757 - precision: 0.9779 - recall: 0.9742 - auc: 0.9986 - val_loss: 0.0848 - val_accuracy: 0.9759 - val_precision: 0.9773 - val_recall: 0.9753 - val_auc: 0.9982\n",
      "Epoch 7/12\n",
      "107/107 [==============================] - 13s 125ms/step - loss: 0.0649 - accuracy: 0.9779 - precision: 0.9797 - recall: 0.9768 - auc: 0.9990 - val_loss: 0.0918 - val_accuracy: 0.9759 - val_precision: 0.9767 - val_recall: 0.9756 - val_auc: 0.9980\n",
      "Epoch 8/12\n",
      "107/107 [==============================] - 13s 124ms/step - loss: 0.0519 - accuracy: 0.9835 - precision: 0.9845 - recall: 0.9826 - auc: 0.9992 - val_loss: 0.0835 - val_accuracy: 0.9782 - val_precision: 0.9785 - val_recall: 0.9771 - val_auc: 0.9981\n",
      "Epoch 9/12\n",
      "107/107 [==============================] - 13s 125ms/step - loss: 0.0424 - accuracy: 0.9859 - precision: 0.9867 - recall: 0.9855 - auc: 0.9995 - val_loss: 0.0882 - val_accuracy: 0.9768 - val_precision: 0.9782 - val_recall: 0.9762 - val_auc: 0.9978\n",
      "Epoch 10/12\n",
      "107/107 [==============================] - 13s 123ms/step - loss: 0.0312 - accuracy: 0.9894 - precision: 0.9900 - recall: 0.9893 - auc: 0.9997 - val_loss: 0.0783 - val_accuracy: 0.9797 - val_precision: 0.9806 - val_recall: 0.9788 - val_auc: 0.9978\n",
      "Epoch 11/12\n",
      "107/107 [==============================] - 13s 124ms/step - loss: 0.0265 - accuracy: 0.9906 - precision: 0.9912 - recall: 0.9904 - auc: 0.9998 - val_loss: 0.0775 - val_accuracy: 0.9785 - val_precision: 0.9800 - val_recall: 0.9782 - val_auc: 0.9981\n",
      "Epoch 12/12\n",
      "107/107 [==============================] - 13s 122ms/step - loss: 0.0258 - accuracy: 0.9908 - precision: 0.9915 - recall: 0.9904 - auc: 0.9998 - val_loss: 0.0834 - val_accuracy: 0.9768 - val_precision: 0.9785 - val_recall: 0.9762 - val_auc: 0.9981\n",
      "Test loss: 0.08337754011154175\n",
      "Test accuracy: 0.9767646789550781\n"
     ]
    },
    {
     "data": {
      "image/png": "[encoded data removed]",
      "text/plain": [
       "<Figure size 432x288 with 1 Axes>"
      ]
     },
     "metadata": {
      "needs_background": "light"
     },
     "output_type": "display_data"
    }
   ],
   "source": [
    "model1.compile(loss=keras.losses.categorical_crossentropy,\n",
    "              optimizer='Adam',\n",
    "              metrics=['accuracy','Precision','Recall','AUC'])\n",
    "history=model1.fit(x_train, y_train,\n",
    "          batch_size=batch_size,\n",
    "          epochs=epochs,\n",
    "          verbose=1,\n",
    "          validation_data=(x_test, y_test))\n",
    "score = model1.evaluate(x_test, y_test, verbose=0)\n",
    "print('Test loss:', score[0])\n",
    "print('Test accuracy:', score[1])\n",
    "list_of_scores['param_tanh']=[]\n",
    "list_of_scores['param_tanh'].append(score[1])\n",
    "list_of_scores['param_tanh'].append(score[2])\n",
    "list_of_scores['param_tanh'].append(score[3])\n",
    "list_of_scores['param_tanh'].append(score[4])\n",
    "# summarize history for accuracy\n",
    "plt.plot(history.history['accuracy'])\n",
    "plt.plot(history.history['val_accuracy'])\n",
    "plt.title('model accuracy')\n",
    "plt.ylabel('accuracy')\n",
    "plt.xlabel('epoch')\n",
    "plt.legend(['train', 'test'], loc='upper left')\n",
    "plt.show()"
   ]
  },
  {
   "cell_type": "markdown",
   "metadata": {},
   "source": [
    "# param_sigmoid"
   ]
  },
  {
   "cell_type": "code",
   "execution_count": 30,
   "metadata": {},
   "outputs": [],
   "source": [
    "model2 = Sequential()\n",
    "model2.add(Conv2D(32, kernel_size=(3, 3),activation='param_sigmoid',input_shape=(32,32,1)))\n",
    "model2.add(Conv2D(64, (3, 3), activation='param_sigmoid'))\n",
    "model2.add(MaxPooling2D(pool_size=(2, 2)))\n",
    "model2.add(Dropout(0.25))\n",
    "model2.add(Flatten())\n",
    "model2.add(Dense(128, activation='param_sigmoid'))\n",
    "model2.add(Dropout(0.5))\n",
    "model2.add(Dense(10, activation='softmax'))\n"
   ]
  },
  {
   "cell_type": "code",
   "execution_count": 31,
   "metadata": {},
   "outputs": [
    {
     "name": "stdout",
     "output_type": "stream",
     "text": [
      "Epoch 1/12\n",
      "107/107 [==============================] - 18s 166ms/step - loss: 0.4872 - accuracy: 0.8504 - precision: 0.9217 - recall: 0.7826 - auc: 0.9858 - val_loss: 0.1349 - val_accuracy: 0.9600 - val_precision: 0.9698 - val_recall: 0.9538 - val_auc: 0.9978\n",
      "Epoch 2/12\n",
      "107/107 [==============================] - 18s 167ms/step - loss: 0.1536 - accuracy: 0.9513 - precision: 0.9598 - recall: 0.9437 - auc: 0.9977 - val_loss: 0.0836 - val_accuracy: 0.9729 - val_precision: 0.9769 - val_recall: 0.9706 - val_auc: 0.9990\n",
      "Epoch 3/12\n",
      "107/107 [==============================] - 17s 156ms/step - loss: 0.1006 - accuracy: 0.9679 - precision: 0.9730 - recall: 0.9643 - auc: 0.9987 - val_loss: 0.0618 - val_accuracy: 0.9803 - val_precision: 0.9826 - val_recall: 0.9791 - val_auc: 0.9992\n",
      "Epoch 4/12\n",
      "107/107 [==============================] - 17s 155ms/step - loss: 0.0675 - accuracy: 0.9792 - precision: 0.9829 - recall: 0.9766 - auc: 0.9993 - val_loss: 0.0488 - val_accuracy: 0.9838 - val_precision: 0.9847 - val_recall: 0.9812 - val_auc: 0.9994\n",
      "Epoch 5/12\n",
      "107/107 [==============================] - 17s 159ms/step - loss: 0.0533 - accuracy: 0.9843 - precision: 0.9861 - recall: 0.9824 - auc: 0.9994 - val_loss: 0.0457 - val_accuracy: 0.9856 - val_precision: 0.9873 - val_recall: 0.9847 - val_auc: 0.9994\n",
      "Epoch 6/12\n",
      "107/107 [==============================] - 16s 153ms/step - loss: 0.0394 - accuracy: 0.9862 - precision: 0.9879 - recall: 0.9849 - auc: 0.9998 - val_loss: 0.0375 - val_accuracy: 0.9879 - val_precision: 0.9891 - val_recall: 0.9879 - val_auc: 0.9993\n",
      "Epoch 7/12\n",
      "107/107 [==============================] - 16s 154ms/step - loss: 0.0377 - accuracy: 0.9864 - precision: 0.9879 - recall: 0.9854 - auc: 0.9998 - val_loss: 0.0356 - val_accuracy: 0.9891 - val_precision: 0.9897 - val_recall: 0.9871 - val_auc: 0.9995\n",
      "Epoch 8/12\n",
      "107/107 [==============================] - 17s 156ms/step - loss: 0.0279 - accuracy: 0.9914 - precision: 0.9923 - recall: 0.9906 - auc: 0.9998 - val_loss: 0.0337 - val_accuracy: 0.9903 - val_precision: 0.9912 - val_recall: 0.9885 - val_auc: 0.9993\n",
      "Epoch 9/12\n",
      "107/107 [==============================] - 17s 156ms/step - loss: 0.0256 - accuracy: 0.9915 - precision: 0.9921 - recall: 0.9907 - auc: 0.9998 - val_loss: 0.0399 - val_accuracy: 0.9888 - val_precision: 0.9891 - val_recall: 0.9876 - val_auc: 0.9993\n",
      "Epoch 10/12\n",
      "107/107 [==============================] - 16s 153ms/step - loss: 0.0240 - accuracy: 0.9913 - precision: 0.9921 - recall: 0.9910 - auc: 0.9998 - val_loss: 0.0337 - val_accuracy: 0.9906 - val_precision: 0.9915 - val_recall: 0.9900 - val_auc: 0.9993\n",
      "Epoch 11/12\n",
      "107/107 [==============================] - 16s 153ms/step - loss: 0.0211 - accuracy: 0.9932 - precision: 0.9934 - recall: 0.9927 - auc: 0.9999 - val_loss: 0.0351 - val_accuracy: 0.9900 - val_precision: 0.9903 - val_recall: 0.9897 - val_auc: 0.9995\n",
      "Epoch 12/12\n",
      "107/107 [==============================] - 16s 153ms/step - loss: 0.0197 - accuracy: 0.9932 - precision: 0.9933 - recall: 0.9929 - auc: 0.9999 - val_loss: 0.0418 - val_accuracy: 0.9897 - val_precision: 0.9903 - val_recall: 0.9894 - val_auc: 0.9990\n",
      "Test loss: 0.041788049042224884\n",
      "Test accuracy: 0.9897058606147766\n"
     ]
    },
    {
     "data": {
      "image/png": "[encoded data removed]",
      "text/plain": [
       "<Figure size 432x288 with 1 Axes>"
      ]
     },
     "metadata": {
      "needs_background": "light"
     },
     "output_type": "display_data"
    }
   ],
   "source": [
    "model2.compile(loss=keras.losses.categorical_crossentropy,\n",
    "              optimizer='Adam',\n",
    "              metrics=['accuracy','Precision','Recall','AUC'])\n",
    "history=model2.fit(x_train, y_train,\n",
    "          batch_size=batch_size,\n",
    "          epochs=epochs,\n",
    "          verbose=1,\n",
    "          validation_data=(x_test, y_test))\n",
    "score = model2.evaluate(x_test, y_test, verbose=0)\n",
    "print('Test loss:', score[0])\n",
    "print('Test accuracy:', score[1])\n",
    "list_of_scores['param_sigmoid']=[]\n",
    "list_of_scores['param_sigmoid'].append(score[1])\n",
    "list_of_scores['param_sigmoid'].append(score[2])\n",
    "list_of_scores['param_sigmoid'].append(score[3])\n",
    "list_of_scores['param_sigmoid'].append(score[4])\n",
    "# summarize history for accuracy\n",
    "plt.plot(history.history['accuracy'])\n",
    "plt.plot(history.history['val_accuracy'])\n",
    "plt.title('model accuracy')\n",
    "plt.ylabel('accuracy')\n",
    "plt.xlabel('epoch')\n",
    "plt.legend(['train', 'test'], loc='upper left')\n",
    "plt.show()"
   ]
  },
  {
   "cell_type": "markdown",
   "metadata": {},
   "source": [
    "# Relu"
   ]
  },
  {
   "cell_type": "code",
   "execution_count": 38,
   "metadata": {},
   "outputs": [],
   "source": [
    "model3 = Sequential()\n",
    "model3.add(Conv2D(32, kernel_size=(3, 3),activation='relu',input_shape=(32,32,1)))\n",
    "model3.add(Conv2D(64, (3, 3), activation='relu'))\n",
    "model3.add(MaxPooling2D(pool_size=(2, 2)))\n",
    "model3.add(Dropout(0.25))\n",
    "model3.add(Flatten())\n",
    "model3.add(Dense(128, activation='relu'))\n",
    "model3.add(Dropout(0.5))\n",
    "model3.add(Dense(10, activation='softmax'))\n"
   ]
  },
  {
   "cell_type": "code",
   "execution_count": 39,
   "metadata": {},
   "outputs": [
    {
     "name": "stdout",
     "output_type": "stream",
     "text": [
      "Epoch 1/12\n",
      "107/107 [==============================] - 12s 115ms/step - loss: 0.7382 - accuracy: 0.7605 - precision: 0.8896 - recall: 0.6547 - auc: 0.9686 - val_loss: 0.1520 - val_accuracy: 0.9556 - val_precision: 0.9682 - val_recall: 0.9412 - val_auc: 0.9984\n",
      "Epoch 2/12\n",
      "107/107 [==============================] - 13s 119ms/step - loss: 0.2358 - accuracy: 0.9235 - precision: 0.9426 - recall: 0.9038 - auc: 0.9957 - val_loss: 0.0837 - val_accuracy: 0.9759 - val_precision: 0.9819 - val_recall: 0.9709 - val_auc: 0.9990\n",
      "Epoch 3/12\n",
      "107/107 [==============================] - 13s 119ms/step - loss: 0.1509 - accuracy: 0.9528 - precision: 0.9633 - recall: 0.9429 - auc: 0.9979 - val_loss: 0.0586 - val_accuracy: 0.9803 - val_precision: 0.9834 - val_recall: 0.9771 - val_auc: 0.9992\n",
      "Epoch 4/12\n",
      "107/107 [==============================] - 12s 117ms/step - loss: 0.1194 - accuracy: 0.9607 - precision: 0.9698 - recall: 0.9527 - auc: 0.9986 - val_loss: 0.0478 - val_accuracy: 0.9862 - val_precision: 0.9894 - val_recall: 0.9841 - val_auc: 0.9994\n",
      "Epoch 5/12\n",
      "107/107 [==============================] - 12s 116ms/step - loss: 0.0860 - accuracy: 0.9715 - precision: 0.9768 - recall: 0.9674 - auc: 0.9990 - val_loss: 0.0451 - val_accuracy: 0.9862 - val_precision: 0.9870 - val_recall: 0.9856 - val_auc: 0.9994\n",
      "Epoch 6/12\n",
      "107/107 [==============================] - 12s 115ms/step - loss: 0.0839 - accuracy: 0.9729 - precision: 0.9781 - recall: 0.9680 - auc: 0.9990 - val_loss: 0.0393 - val_accuracy: 0.9862 - val_precision: 0.9873 - val_recall: 0.9856 - val_auc: 0.9992\n",
      "Epoch 7/12\n",
      "107/107 [==============================] - 12s 116ms/step - loss: 0.0654 - accuracy: 0.9778 - precision: 0.9811 - recall: 0.9749 - auc: 0.9995 - val_loss: 0.0365 - val_accuracy: 0.9888 - val_precision: 0.9906 - val_recall: 0.9888 - val_auc: 0.9993\n",
      "Epoch 8/12\n",
      "107/107 [==============================] - 12s 116ms/step - loss: 0.0606 - accuracy: 0.9788 - precision: 0.9827 - recall: 0.9759 - auc: 0.9995 - val_loss: 0.0332 - val_accuracy: 0.9903 - val_precision: 0.9918 - val_recall: 0.9900 - val_auc: 0.9993\n",
      "Epoch 9/12\n",
      "107/107 [==============================] - 12s 113ms/step - loss: 0.0494 - accuracy: 0.9841 - precision: 0.9865 - recall: 0.9823 - auc: 0.9996 - val_loss: 0.0302 - val_accuracy: 0.9921 - val_precision: 0.9929 - val_recall: 0.9912 - val_auc: 0.9995\n",
      "Epoch 10/12\n",
      "107/107 [==============================] - 12s 114ms/step - loss: 0.0502 - accuracy: 0.9835 - precision: 0.9860 - recall: 0.9808 - auc: 0.9996 - val_loss: 0.0309 - val_accuracy: 0.9909 - val_precision: 0.9909 - val_recall: 0.9909 - val_auc: 0.9995\n",
      "Epoch 11/12\n",
      "107/107 [==============================] - 12s 112ms/step - loss: 0.0485 - accuracy: 0.9840 - precision: 0.9855 - recall: 0.9815 - auc: 0.9996 - val_loss: 0.0294 - val_accuracy: 0.9950 - val_precision: 0.9950 - val_recall: 0.9935 - val_auc: 0.9990\n",
      "Epoch 12/12\n",
      "107/107 [==============================] - 12s 112ms/step - loss: 0.0428 - accuracy: 0.9852 - precision: 0.9869 - recall: 0.9833 - auc: 0.9995 - val_loss: 0.0358 - val_accuracy: 0.9912 - val_precision: 0.9918 - val_recall: 0.9903 - val_auc: 0.9993\n",
      "Test loss: 0.03584872558712959\n",
      "Test accuracy: 0.9911764860153198\n"
     ]
    },
    {
     "data": {
      "image/png": "[encoded data removed]",
      "text/plain": [
       "<Figure size 432x288 with 1 Axes>"
      ]
     },
     "metadata": {
      "needs_background": "light"
     },
     "output_type": "display_data"
    }
   ],
   "source": [
    "model3.compile(loss=keras.losses.categorical_crossentropy,\n",
    "              optimizer='Adam',\n",
    "              metrics=['accuracy','Precision','Recall','AUC'])\n",
    "history=model3.fit(x_train, y_train,\n",
    "          batch_size=batch_size,\n",
    "          epochs=epochs,\n",
    "          verbose=1,\n",
    "          validation_data=(x_test, y_test))\n",
    "score = model3.evaluate(x_test, y_test, verbose=0)\n",
    "print('Test loss:', score[0])\n",
    "print('Test accuracy:', score[1])\n",
    "list_of_scores['relu']=[]\n",
    "list_of_scores['relu'].append(score[1])\n",
    "list_of_scores['relu'].append(score[2])\n",
    "list_of_scores['relu'].append(score[3])\n",
    "list_of_scores['relu'].append(score[4])\n",
    "# summarize history for accuracy\n",
    "plt.plot(history.history['accuracy'])\n",
    "plt.plot(history.history['val_accuracy'])\n",
    "plt.title('model accuracy')\n",
    "plt.ylabel('accuracy')\n",
    "plt.xlabel('epoch')\n",
    "plt.legend(['train', 'test'], loc='upper left')\n",
    "plt.show()"
   ]
  },
  {
   "cell_type": "markdown",
   "metadata": {},
   "source": [
    "# tanh"
   ]
  },
  {
   "cell_type": "code",
   "execution_count": 48,
   "metadata": {},
   "outputs": [],
   "source": [
    "model4 = Sequential()\n",
    "model4.add(Conv2D(32, kernel_size=(3, 3),activation='tanh',input_shape=(32,32,1)))\n",
    "model4.add(Conv2D(64, (3, 3), activation='tanh'))\n",
    "model4.add(MaxPooling2D(pool_size=(2, 2)))\n",
    "model4.add(Dropout(0.25))\n",
    "model4.add(Flatten())\n",
    "model4.add(Dense(128, activation='tanh'))\n",
    "model4.add(Dropout(0.5))\n",
    "model4.add(Dense(10, activation='softmax'))\n"
   ]
  },
  {
   "cell_type": "code",
   "execution_count": 49,
   "metadata": {},
   "outputs": [
    {
     "name": "stdout",
     "output_type": "stream",
     "text": [
      "Epoch 1/12\n",
      "107/107 [==============================] - 12s 115ms/step - loss: 0.4871 - accuracy: 0.8505 - precision: 0.9118 - recall: 0.8085 - auc: 0.9840 - val_loss: 0.1694 - val_accuracy: 0.9494 - val_precision: 0.9639 - val_recall: 0.9424 - val_auc: 0.9973\n",
      "Epoch 2/12\n",
      "107/107 [==============================] - 12s 111ms/step - loss: 0.1762 - accuracy: 0.9453 - precision: 0.9568 - recall: 0.9354 - auc: 0.9975 - val_loss: 0.1162 - val_accuracy: 0.9668 - val_precision: 0.9758 - val_recall: 0.9597 - val_auc: 0.9985\n",
      "Epoch 3/12\n",
      "107/107 [==============================] - 12s 111ms/step - loss: 0.1158 - accuracy: 0.9649 - precision: 0.9735 - recall: 0.9585 - auc: 0.9988 - val_loss: 0.0843 - val_accuracy: 0.9759 - val_precision: 0.9813 - val_recall: 0.9721 - val_auc: 0.9990\n",
      "Epoch 4/12\n",
      "107/107 [==============================] - 12s 112ms/step - loss: 0.0823 - accuracy: 0.9769 - precision: 0.9818 - recall: 0.9723 - auc: 0.9991 - val_loss: 0.0770 - val_accuracy: 0.9765 - val_precision: 0.9804 - val_recall: 0.9718 - val_auc: 0.9992\n",
      "Epoch 5/12\n",
      "107/107 [==============================] - 12s 108ms/step - loss: 0.0660 - accuracy: 0.9815 - precision: 0.9848 - recall: 0.9784 - auc: 0.9995 - val_loss: 0.0644 - val_accuracy: 0.9794 - val_precision: 0.9831 - val_recall: 0.9765 - val_auc: 0.9993\n",
      "Epoch 6/12\n",
      "107/107 [==============================] - 12s 109ms/step - loss: 0.0530 - accuracy: 0.9847 - precision: 0.9878 - recall: 0.9820 - auc: 0.9997 - val_loss: 0.0608 - val_accuracy: 0.9806 - val_precision: 0.9840 - val_recall: 0.9788 - val_auc: 0.9994\n",
      "Epoch 7/12\n",
      "107/107 [==============================] - 11s 106ms/step - loss: 0.0454 - accuracy: 0.9874 - precision: 0.9894 - recall: 0.9849 - auc: 0.9998 - val_loss: 0.0578 - val_accuracy: 0.9806 - val_precision: 0.9846 - val_recall: 0.9788 - val_auc: 0.9994\n",
      "Epoch 8/12\n",
      "107/107 [==============================] - 11s 106ms/step - loss: 0.0351 - accuracy: 0.9905 - precision: 0.9922 - recall: 0.9886 - auc: 0.9999 - val_loss: 0.0553 - val_accuracy: 0.9838 - val_precision: 0.9864 - val_recall: 0.9821 - val_auc: 0.9991\n",
      "Epoch 9/12\n",
      "107/107 [==============================] - 12s 109ms/step - loss: 0.0289 - accuracy: 0.9921 - precision: 0.9934 - recall: 0.9910 - auc: 0.9999 - val_loss: 0.0485 - val_accuracy: 0.9844 - val_precision: 0.9855 - val_recall: 0.9826 - val_auc: 0.9993\n",
      "Epoch 10/12\n",
      "107/107 [==============================] - 12s 110ms/step - loss: 0.0254 - accuracy: 0.9930 - precision: 0.9940 - recall: 0.9922 - auc: 0.9999 - val_loss: 0.0500 - val_accuracy: 0.9850 - val_precision: 0.9861 - val_recall: 0.9826 - val_auc: 0.9993\n",
      "Epoch 11/12\n",
      "107/107 [==============================] - 11s 107ms/step - loss: 0.0209 - accuracy: 0.9946 - precision: 0.9954 - recall: 0.9935 - auc: 1.0000 - val_loss: 0.0492 - val_accuracy: 0.9841 - val_precision: 0.9853 - val_recall: 0.9835 - val_auc: 0.9991\n",
      "Epoch 12/12\n",
      "107/107 [==============================] - 11s 107ms/step - loss: 0.0191 - accuracy: 0.9954 - precision: 0.9961 - recall: 0.9949 - auc: 0.9999 - val_loss: 0.0504 - val_accuracy: 0.9832 - val_precision: 0.9852 - val_recall: 0.9815 - val_auc: 0.9993\n",
      "Test loss: 0.05040325969457626\n",
      "Test accuracy: 0.9832352995872498\n"
     ]
    },
    {
     "data": {
      "image/png": "[encoded data removed]",
      "text/plain": [
       "<Figure size 432x288 with 1 Axes>"
      ]
     },
     "metadata": {
      "needs_background": "light"
     },
     "output_type": "display_data"
    }
   ],
   "source": [
    "model4.compile(loss=keras.losses.categorical_crossentropy,\n",
    "              optimizer='Adam',\n",
    "              metrics=['accuracy','Precision','Recall','AUC'])\n",
    "history=model4.fit(x_train, y_train,\n",
    "          batch_size=batch_size,\n",
    "          epochs=epochs,\n",
    "          verbose=1,\n",
    "          validation_data=(x_test, y_test))\n",
    "score = model4.evaluate(x_test, y_test, verbose=0)\n",
    "print('Test loss:', score[0])\n",
    "print('Test accuracy:', score[1])\n",
    "list_of_scores['tanh']=[]\n",
    "list_of_scores['tanh'].append(score[1])\n",
    "list_of_scores['tanh'].append(score[2])\n",
    "list_of_scores['tanh'].append(score[3])\n",
    "list_of_scores['tanh'].append(score[4])\n",
    "# summarize history for accuracy\n",
    "plt.plot(history.history['accuracy'])\n",
    "plt.plot(history.history['val_accuracy'])\n",
    "plt.title('model accuracy')\n",
    "plt.ylabel('accuracy')\n",
    "plt.xlabel('epoch')\n",
    "plt.legend(['train', 'test'], loc='upper left')\n",
    "plt.show()"
   ]
  },
  {
   "cell_type": "markdown",
   "metadata": {},
   "source": [
    "# Sigmoid"
   ]
  },
  {
   "cell_type": "code",
   "execution_count": 45,
   "metadata": {},
   "outputs": [],
   "source": [
    "model5 = Sequential()\n",
    "model5.add(Conv2D(32, kernel_size=(3, 3),activation='sigmoid',input_shape=(32,32,1)))\n",
    "model5.add(Conv2D(64, (3, 3), activation='sigmoid'))\n",
    "model5.add(MaxPooling2D(pool_size=(2, 2)))\n",
    "model5.add(Dropout(0.25))\n",
    "model5.add(Flatten())\n",
    "model5.add(Dense(128, activation='sigmoid'))\n",
    "model5.add(Dropout(0.5))\n",
    "model5.add(Dense(10, activation='softmax'))\n"
   ]
  },
  {
   "cell_type": "code",
   "execution_count": 46,
   "metadata": {},
   "outputs": [
    {
     "name": "stdout",
     "output_type": "stream",
     "text": [
      "Epoch 1/12\n",
      "107/107 [==============================] - 12s 112ms/step - loss: 2.5929 - accuracy: 0.1022 - precision: 0.0621 - recall: 7.3529e-04 - auc: 0.5005 - val_loss: 2.3059 - val_accuracy: 0.1000 - val_precision: 0.0000e+00 - val_recall: 0.0000e+00 - val_auc: 0.5000\n",
      "Epoch 2/12\n",
      "107/107 [==============================] - 11s 107ms/step - loss: 2.4295 - accuracy: 0.0973 - precision: 0.0000e+00 - recall: 0.0000e+00 - auc: 0.4968 - val_loss: 2.3058 - val_accuracy: 0.1000 - val_precision: 0.0000e+00 - val_recall: 0.0000e+00 - val_auc: 0.5000\n",
      "Epoch 3/12\n",
      "107/107 [==============================] - 12s 108ms/step - loss: 2.3775 - accuracy: 0.0969 - precision: 0.0000e+00 - recall: 0.0000e+00 - auc: 0.5019 - val_loss: 2.3035 - val_accuracy: 0.1000 - val_precision: 0.0000e+00 - val_recall: 0.0000e+00 - val_auc: 0.5000\n",
      "Epoch 4/12\n",
      "107/107 [==============================] - 12s 108ms/step - loss: 2.3512 - accuracy: 0.0999 - precision: 0.0000e+00 - recall: 0.0000e+00 - auc: 0.4995 - val_loss: 2.3048 - val_accuracy: 0.1000 - val_precision: 0.0000e+00 - val_recall: 0.0000e+00 - val_auc: 0.5000\n",
      "Epoch 5/12\n",
      "107/107 [==============================] - 12s 109ms/step - loss: 2.3309 - accuracy: 0.1033 - precision: 0.0000e+00 - recall: 0.0000e+00 - auc: 0.5026 - val_loss: 2.3036 - val_accuracy: 0.1000 - val_precision: 0.0000e+00 - val_recall: 0.0000e+00 - val_auc: 0.5000\n",
      "Epoch 6/12\n",
      "107/107 [==============================] - 12s 110ms/step - loss: 2.3223 - accuracy: 0.1015 - precision: 0.0000e+00 - recall: 0.0000e+00 - auc: 0.5035 - val_loss: 2.3033 - val_accuracy: 0.1000 - val_precision: 0.0000e+00 - val_recall: 0.0000e+00 - val_auc: 0.5000\n",
      "Epoch 7/12\n",
      "107/107 [==============================] - 12s 109ms/step - loss: 2.3154 - accuracy: 0.0996 - precision: 0.0000e+00 - recall: 0.0000e+00 - auc: 0.5035 - val_loss: 2.3048 - val_accuracy: 0.1000 - val_precision: 0.0000e+00 - val_recall: 0.0000e+00 - val_auc: 0.5000\n",
      "Epoch 8/12\n",
      "107/107 [==============================] - 12s 108ms/step - loss: 2.3115 - accuracy: 0.1022 - precision: 0.0000e+00 - recall: 0.0000e+00 - auc: 0.5041 - val_loss: 2.3034 - val_accuracy: 0.1000 - val_precision: 0.0000e+00 - val_recall: 0.0000e+00 - val_auc: 0.5000\n",
      "Epoch 9/12\n",
      "107/107 [==============================] - 12s 110ms/step - loss: 2.3102 - accuracy: 0.0982 - precision: 0.0000e+00 - recall: 0.0000e+00 - auc: 0.5000 - val_loss: 2.3036 - val_accuracy: 0.1000 - val_precision: 0.0000e+00 - val_recall: 0.0000e+00 - val_auc: 0.5000\n",
      "Epoch 10/12\n",
      "107/107 [==============================] - 12s 109ms/step - loss: 2.3084 - accuracy: 0.1032 - precision: 0.0000e+00 - recall: 0.0000e+00 - auc: 0.5009 - val_loss: 2.3037 - val_accuracy: 0.1000 - val_precision: 0.0000e+00 - val_recall: 0.0000e+00 - val_auc: 0.5000\n",
      "Epoch 11/12\n",
      "107/107 [==============================] - 12s 109ms/step - loss: 2.3084 - accuracy: 0.1020 - precision: 0.0000e+00 - recall: 0.0000e+00 - auc: 0.4948 - val_loss: 2.3033 - val_accuracy: 0.1000 - val_precision: 0.0000e+00 - val_recall: 0.0000e+00 - val_auc: 0.5000\n",
      "Epoch 12/12\n",
      "107/107 [==============================] - 12s 108ms/step - loss: 2.3071 - accuracy: 0.1026 - precision: 0.0000e+00 - recall: 0.0000e+00 - auc: 0.5000 - val_loss: 2.3047 - val_accuracy: 0.1000 - val_precision: 0.0000e+00 - val_recall: 0.0000e+00 - val_auc: 0.5000\n",
      "Test loss: 2.304675340652466\n",
      "Test accuracy: 0.10000000149011612\n"
     ]
    },
    {
     "data": {
      "image/png": "[encoded data removed]",
      "text/plain": [
       "<Figure size 432x288 with 1 Axes>"
      ]
     },
     "metadata": {
      "needs_background": "light"
     },
     "output_type": "display_data"
    }
   ],
   "source": [
    "model5.compile(loss=keras.losses.categorical_crossentropy,\n",
    "              optimizer='Adam',\n",
    "              metrics=['accuracy','Precision','Recall','AUC'])\n",
    "history=model5.fit(x_train, y_train,\n",
    "          batch_size=batch_size,\n",
    "          epochs=epochs,\n",
    "          verbose=1,\n",
    "          validation_data=(x_test, y_test))\n",
    "score = model5.evaluate(x_test, y_test, verbose=0)\n",
    "print('Test loss:', score[0])\n",
    "print('Test accuracy:', score[1])\n",
    "list_of_scores['sigmoid']=[]\n",
    "list_of_scores['sigmoid'].append(score[1])\n",
    "list_of_scores['sigmoid'].append(score[2])\n",
    "list_of_scores['sigmoid'].append(score[3])\n",
    "list_of_scores['sigmoid'].append(score[4])\n",
    "# summarize history for accuracy\n",
    "plt.plot(history.history['accuracy'])\n",
    "plt.plot(history.history['val_accuracy'])\n",
    "plt.title('model accuracy')\n",
    "plt.ylabel('accuracy')\n",
    "plt.xlabel('epoch')\n",
    "plt.legend(['train', 'test'], loc='upper left')\n",
    "plt.show()"
   ]
  },
  {
   "cell_type": "markdown",
   "metadata": {},
   "source": [
    "# Visualizing results"
   ]
  },
  {
   "cell_type": "code",
   "execution_count": 50,
   "metadata": {},
   "outputs": [],
   "source": [
    "\n",
    "activation=list(list_of_scores.keys())\n",
    "metrics=list(list_of_scores.values())"
   ]
  },
  {
   "cell_type": "code",
   "execution_count": 51,
   "metadata": {},
   "outputs": [
    {
     "data": {
      "image/png": "[encoded data removed]",
      "text/plain": [
       "<Figure size 432x288 with 1 Axes>"
      ]
     },
     "metadata": {
      "needs_background": "light"
     },
     "output_type": "display_data"
    }
   ],
   "source": [
    "import seaborn as sns\n",
    "ax=sns.lineplot(x=activation,y=[item[0] for item in metrics])\n",
    "ax.set(xlabel='Activations', ylabel='Accuracy')\n",
    "plt.show()"
   ]
  },
  {
   "cell_type": "code",
   "execution_count": 52,
   "metadata": {},
   "outputs": [
    {
     "data": {
      "image/png": "[encoded data removed]",
      "text/plain": [
       "<Figure size 432x288 with 1 Axes>"
      ]
     },
     "metadata": {
      "needs_background": "light"
     },
     "output_type": "display_data"
    }
   ],
   "source": [
    "ax=sns.lineplot(x=activation,y=[item[1] for item in metrics])\n",
    "ax.set(xlabel='Activations', ylabel='Precision')\n",
    "plt.show()"
   ]
  },
  {
   "cell_type": "code",
   "execution_count": 53,
   "metadata": {},
   "outputs": [
    {
     "data": {
      "image/png": "[encoded data removed]",
      "text/plain": [
       "<Figure size 432x288 with 1 Axes>"
      ]
     },
     "metadata": {
      "needs_background": "light"
     },
     "output_type": "display_data"
    }
   ],
   "source": [
    "ax=sns.lineplot(x=activation,y=[item[2] for item in metrics])\n",
    "ax.set(xlabel='Activations', ylabel='Recall')\n",
    "plt.show()"
   ]
  },
  {
   "cell_type": "code",
   "execution_count": 54,
   "metadata": {},
   "outputs": [
    {
     "data": {
      "image/png": "[encoded data removed]",
      "text/plain": [
       "<Figure size 432x288 with 1 Axes>"
      ]
     },
     "metadata": {
      "needs_background": "light"
     },
     "output_type": "display_data"
    }
   ],
   "source": [
    "ax=sns.lineplot(x=activation,y=[item[3] for item in metrics])\n",
    "ax.set(xlabel='Activations', ylabel='AUC')\n",
    "plt.show()"
   ]
  },
  {
   "cell_type": "code",
   "execution_count": 56,
   "metadata": {},
   "outputs": [
    {
     "data": {
      "text/plain": [
       "{'relu_moid': [0.9858823418617249,\n",
       "  0.9887806177139282,\n",
       "  0.9850000143051147,\n",
       "  0.9991468787193298],\n",
       " 'param_tanh': [0.9767646789550781,\n",
       "  0.9784787893295288,\n",
       "  0.9761765003204346,\n",
       "  0.9980998635292053],\n",
       " 'param_sigmoid': [0.9897058606147766,\n",
       "  0.9902855753898621,\n",
       "  0.9894117712974548,\n",
       "  0.9990007281303406],\n",
       " 'relu': [0.9911764860153198,\n",
       "  0.991752564907074,\n",
       "  0.9902940988540649,\n",
       "  0.9993458986282349],\n",
       " 'tanh': [0.9832352995872498,\n",
       "  0.9852376580238342,\n",
       "  0.9814705848693848,\n",
       "  0.9992913007736206],\n",
       " 'sigmoid': [0.10000000149011612, 0.0, 0.0, 0.5]}"
      ]
     },
     "execution_count": 56,
     "metadata": {},
     "output_type": "execute_result"
    }
   ],
   "source": [
    "list_of_scores"
   ]
  },
  {
   "cell_type": "code",
   "execution_count": null,
   "metadata": {},
   "outputs": [],
   "source": []
  }
 ],
 "metadata": {
  "kernelspec": {
   "display_name": "Python 3",
   "language": "python",
   "name": "python3"
  },
  "language_info": {
   "codemirror_mode": {
    "name": "ipython",
    "version": 3
   },
   "file_extension": ".py",
   "mimetype": "text/x-python",
   "name": "python",
   "nbconvert_exporter": "python",
   "pygments_lexer": "ipython3",
   "version": "3.8.5"
  }
 },
 "nbformat": 4,
 "nbformat_minor": 2
}
