{
 "cells": [
  {
   "cell_type": "code",
   "execution_count": 1,
   "metadata": {},
   "outputs": [
    {
     "name": "stdout",
     "output_type": "stream",
     "text": [
      "Collecting opencv-python\n",
      "  Downloading opencv_python-4.4.0.46-cp39-cp39-win_amd64.whl (33.5 MB)\n",
      "Requirement already satisfied: numpy>=1.19.3 in c:\\users\\tagor\\appdata\\local\\programs\\python\\python39\\lib\\site-packages (from opencv-python) (1.19.4)\n",
      "Installing collected packages: opencv-python\n",
      "Successfully installed opencv-python-4.4.0.46\n"
     ]
    },
    {
     "name": "stderr",
     "output_type": "stream",
     "text": [
      "WARNING: You are using pip version 20.2.3; however, version 20.3.1 is available.\n",
      "You should consider upgrading via the 'c:\\users\\tagor\\appdata\\local\\programs\\python\\python39\\python.exe -m pip install --upgrade pip' command.\n"
     ]
    }
   ],
   "source": [
    "!pip install opencv-python\n"
   ]
  },
  {
   "cell_type": "code",
   "execution_count": 2,
   "metadata": {
    "scrolled": true
   },
   "outputs": [
    {
     "data": {
      "image/png": "[encoded data removed]",
      "text/plain": [
       "<Figure size 432x288 with 3 Axes>"
      ]
     },
     "metadata": {
      "needs_background": "light"
     },
     "output_type": "display_data"
    }
   ],
   "source": [
    "# -*- coding: utf-8 -*-\n",
    "\"\"\"\n",
    "Created on Wed Nov  4 17:10:20 2020\n",
    "\n",
    "@author: Tagore Pothuneedi\n",
    "@data pre-processing:PJ\n",
    "\"\"\"\n",
    "\n",
    "import matplotlib.pyplot as plt #to plot required plots\n",
    "from skimage.transform import resize #to resize image \n",
    "from skimage.util import pad #to pad values in numpy array\n",
    "import numpy as np\n",
    "import pandas as pd\n",
    "from sklearn.metrics import accuracy_score, confusion_matrix, classification_report\n",
    "import os #to get paths of images\n",
    "import cv2 #to read images\n",
    "from sklearn.decomposition import PCA\n",
    "\n",
    "\n",
    "display=True\n",
    "#function used to show the image\n",
    "def show_image(image_path,title='Image',cmap_type='gray'):\n",
    "    img_grey = cv2.imread(image_path, cv2.IMREAD_GRAYSCALE)\n",
    "    plt.imshow(img_grey,cmap=cmap_type)\n",
    "    plt.title(title)\n",
    "    plt.axis('off')\n",
    "    plt.show()\n",
    "\n",
    "# function to get all file paths from provided directory\n",
    "def get_list_of_files(dir_path):\n",
    "    # create a list of file and sub directories \n",
    "    # names in the given directory \n",
    "    files = os.listdir(dir_path)\n",
    "    all_files = list()\n",
    "    # Iterate over all the entries\n",
    "    for file in files:\n",
    "        # Create full path\n",
    "        fullPath = os.path.join(dir_path, file)\n",
    "        # If entry is a directory then get the list of files in this directory \n",
    "        if os.path.isdir(fullPath):\n",
    "            all_files = all_files + get_list_of_files(fullPath)\n",
    "        else:\n",
    "            all_files.append(fullPath)\n",
    "                \n",
    "    return all_files\n",
    "\n",
    "#function to get folder names from provided path : folder name is later used as target label\n",
    "def get_folder_name_list(dir_path):\n",
    "   base_path_folder_list=[]\n",
    "   for entry in os.listdir(dir_path):\n",
    "       if os.path.isdir(os.path.join(dir_path, entry)):\n",
    "           base_path_folder_list.append(entry) \n",
    "   return base_path_folder_list\n",
    "\n",
    "#white padding : padwithone black padding:pad with zero\n",
    "#used in preprocessing of image, for adding 2 pixel border from all sides\n",
    "def padwithzeros(vector, pad_width, iaxis, kwargs):\n",
    "    vector[:pad_width[0]] = 0\n",
    "    vector[-pad_width[1]:] = 0\n",
    "    return vector\n",
    "def pre_process_image(img_path):\n",
    "    #show_image(img_path,'greyimg')\n",
    "    img_grey = cv2.imread(img_path, cv2.IMREAD_GRAYSCALE)\n",
    "    \n",
    "        \n",
    "    # define a threshold, 128 is the middle of black and white in grey scale\n",
    "    thresh = 128\n",
    "    \n",
    "    # threshold the image\n",
    "    img_binary = cv2.threshold(img_grey, thresh, 255, cv2.THRESH_BINARY)[1]\n",
    "    \n",
    "    #invert the binary image to get clear image\n",
    "    inverted_binary_image =  cv2.bitwise_not(img_binary)\n",
    "    fimg = np.where(inverted_binary_image>0,1,inverted_binary_image)\n",
    "    \n",
    "    \n",
    "    '''\n",
    "    # can be used when image is not 32 * 32 pixel \n",
    "    resized_img = resize(inverted_binary_image,(28,28),anti_aliasing=False) # second parameter : scale here 2 double the size\n",
    "    resized_img_with_padding = pad(resized_img,2,padwithzeros)\n",
    "    fimg = np.where(resized_img_with_padding>0,1,resized_img_with_padding)\n",
    "    '''\n",
    "    #normalized_fimg = fimg / np.linalg.norm(fimg)\n",
    "    normalized_fimg = fimg \n",
    "    global display\n",
    "    #filters\n",
    "    #sobelx = cv2.Sobel(fimg,cv2.CV_64F,1,0,ksize=5)\n",
    "    #sobely = cv2.Sobel(fimg,cv2.CV_64F,0,1,ksize=5)\n",
    "    #laplacian = cv2.Laplacian(fimg,cv2.CV_64F)\n",
    "    if display==True:\n",
    "        import matplotlib.image as mpimg\n",
    "        img=mpimg.imread(img_path)\n",
    "        f, axarr = plt.subplots(1,3)\n",
    "           \n",
    "        axarr[0].imshow(img)\n",
    "        axarr[0].set_title('Original')\n",
    "        \n",
    "        axarr[1].imshow(img_grey,cmap='gray')\n",
    "        axarr[1].set_title('Greyscale')\n",
    "        axarr[2].imshow(normalized_fimg)\n",
    "        axarr[2].set_title('Preprocessed Img')\n",
    "        #plt.title(\"Preprocessed Image of character_ka\")\n",
    "    display=False\n",
    "    return normalized_fimg.flatten()\n",
    "\n",
    "#get list of preprocessed images\n",
    "def load_images_list(img_paths):\n",
    "    images=[]\n",
    "    for img_path in img_paths:\n",
    "        fimg = pre_process_image(img_path)\n",
    "        images.append(fimg)\n",
    "    return images\n",
    "\n",
    "# base path for dataset\n",
    "base_path=r\"C:\\Users\\tagor\\Desktop\\ml\\DevanagariHandwrittenCharacterDataset\\Train\"\n",
    "\n",
    "\n",
    "\n",
    "#base_path_folder_list = get_folder_name_list(base_path)    \n",
    "#print(base_path_folder_list)\n",
    "\n",
    "\n",
    "base_path_folder_list=['character_1_ka','character_2_kha','character_3_ga','character_4_gha','character_5_kna','character_6_cha',\\\n",
    "                       'character_7_chha','character_8_ja','character_9_jha','character_10_yna','character_11_taamatar','character_12_thaa',\\\n",
    "                      'character_13_daa','character_14_dhaa','character_15_adna','character_16_tabala','character_17_tha','character_18_da',\\\n",
    "                      'character_19_dha','character_20_na','character_21_pa','character_22_pha','character_23_ba','character_24_bha','character_25_ma',\\\n",
    "                      'character_26_yaw','character_27_ra','character_28_la','character_29_waw','character_30_motosaw','character_31_petchiryakha','character_32_patalosaw',\\\n",
    "        'character_33_ha','character_34_chhya','character_35_tra','character_36_gya']\n",
    "#base_path_folder_list=['digit_0', 'digit_1', 'digit_2', 'digit_3', 'digit_4', 'digit_5', 'digit_6', 'digit_7', 'digit_8', 'digit_9']\n",
    "\n",
    "df = pd.DataFrame()\n",
    "i=1\n",
    "for folder_name in base_path_folder_list:\n",
    "    img_path=base_path+'/'+folder_name+'/'\n",
    "    images_path_list = get_list_of_files(img_path)\n",
    "    images_flattened = load_images_list(images_path_list)\n",
    "    df_images = pd.DataFrame(images_flattened)\n",
    "    df_images['label'] = i\n",
    "    i+=1\n",
    "    \n",
    "    ##subdivide\n",
    "    ##astract\n",
    "    \n",
    "    df=df.append(df_images,ignore_index=True)\n",
    "    \n",
    "\n",
    "from sklearn.ensemble import RandomForestClassifier\n",
    "from sklearn.model_selection import train_test_split\n",
    "\n",
    "#shuffle records in df\n",
    "df = df.sample(frac = 1) \n",
    "X=df.iloc[:,df.columns != 'label']\n",
    "y=df['label']\n",
    "\n",
    "\n",
    "X_train,X_test,y_train,y_test= train_test_split(X,y,test_size=.2,random_state=1111,stratify=y)\n",
    "\n",
    "\n",
    "#testing random image\n",
    "test_base_path = r'C:\\Users\\tagor\\Desktop\\ml\\DevanagariHandwrittenCharacterDataset\\Test'\n",
    "test_img_path=test_base_path+'character_36_gya/44449.png'\n",
    "\n",
    "\n",
    "def test_char(img_path):\n",
    "    test_img = pre_process_image(img_path)\n",
    "    test_img=test_img.reshape(1,-1)\n",
    "    #print(\"rfc: {0}\".format(rfc.predict(test_img)))\n",
    "    #print(\"dtree_model: {0}\".format(dtree_model.predict(test_img)))\n",
    "    #print(\"svm_model_linear: {0}\".format(svm_model_linear.predict(test_img)))\n",
    "    #print(\"knn: {0}\".format(knn.predict(test_img)))\n",
    "    #print(\"gnb: {0}\".format(gnb.predict(test_img)))\n",
    "    \n",
    "    \n",
    "\n"
   ]
  },
  {
   "cell_type": "markdown",
   "metadata": {},
   "source": [
    "# Model"
   ]
  },
  {
   "cell_type": "code",
   "execution_count": 3,
   "metadata": {},
   "outputs": [],
   "source": [
    "\n",
    "##################\n",
    "#CNN \n",
    "##################\n",
    "import tensorflow as tf\n",
    "import keras\n",
    "from keras.models import Sequential\n",
    "from keras.layers import Dense, Dropout, Flatten\n",
    "from keras.layers import Conv2D, MaxPooling2D\n",
    "import numpy as np\n",
    "from keras.layers.core import Activation\n",
    "from keras.models import Sequential\n",
    "\n",
    "import keras.backend as K\n",
    "#from keras.backend.tensorflow_backend import get_session as sess\n"
   ]
  },
  {
   "cell_type": "code",
   "execution_count": 4,
   "metadata": {},
   "outputs": [
    {
     "data": {
      "text/plain": [
       "(12240,)"
      ]
     },
     "execution_count": 4,
     "metadata": {},
     "output_type": "execute_result"
    }
   ],
   "source": [
    "X_train.shape,X_test.shape\n",
    "y_test.shape"
   ]
  },
  {
   "cell_type": "code",
   "execution_count": 5,
   "metadata": {},
   "outputs": [
    {
     "name": "stdout",
     "output_type": "stream",
     "text": [
      "x_train shape: (48960, 32, 32, 1)\n",
      "48960 train samples\n",
      "12240 test samples\n"
     ]
    }
   ],
   "source": [
    "batch_size = 128\n",
    "num_classes = 10\n",
    "epochs = 12\n",
    "\n",
    "# input image dimensions\n",
    "img_rows, img_cols = 32,32\n",
    "\n",
    "# the data, split between train and test sets\n",
    "\n",
    "x_train = np.asarray(X_train).reshape(48960,32,32,1)\n",
    "x_test = np.asarray(X_test).reshape(12240,32,32,1)\n",
    "\n",
    "#x_train = X_train\n",
    "#x_test = X_test\n",
    "\n",
    "print('x_train shape:', x_train.shape)\n",
    "print(x_train.shape[0], 'train samples')\n",
    "print(x_test.shape[0], 'test samples')\n",
    "\n",
    "# convert class vectors to binary class matrices\n",
    "y_train = keras.utils.to_categorical(np.asarray(y_train),37)\n",
    "y_test = keras.utils.to_categorical(np.asarray(y_test),37)"
   ]
  },
  {
   "cell_type": "code",
   "execution_count": 6,
   "metadata": {},
   "outputs": [],
   "source": [
    "from keras.backend import sigmoid,tanh,exp\n",
    "from keras.utils.generic_utils import get_custom_objects\n",
    "from keras.layers import Activation\n",
    "\n",
    "def swish(x, beta = 2):\n",
    "    return (x * sigmoid(beta * x))\n",
    "def param_tanh(x):\n",
    "    return x+tanh(x)\n",
    "def relu_moid(x):\n",
    "    #if x > 0.0:\n",
    "    #    return x\n",
    "    #else:\n",
    "    #    return 1/1+exp(-x)\n",
    "\n",
    "    return K.switch(x>0,x,sigmoid(x))\n",
    "\n",
    "def param_sigmoid(x):\n",
    "    return x/(1+exp(-x))\n",
    "    #print(x)\n",
    "    \n",
    "    \n",
    "\n",
    "get_custom_objects().update({'swish': Activation(swish)})\n",
    "get_custom_objects().update({'param_tanh': Activation(param_tanh)})\n",
    "get_custom_objects().update({'relu_moid': Activation(relu_moid)})\n",
    "get_custom_objects().update({'param_sigmoid': Activation(param_sigmoid)})"
   ]
  },
  {
   "cell_type": "markdown",
   "metadata": {},
   "source": [
    "# Relu_moid"
   ]
  },
  {
   "cell_type": "code",
   "execution_count": 10,
   "metadata": {},
   "outputs": [
    {
     "name": "stdout",
     "output_type": "stream",
     "text": [
      "Model: \"sequential_1\"\n",
      "_________________________________________________________________\n",
      "Layer (type)                 Output Shape              Param #   \n",
      "=================================================================\n",
      "conv2d_2 (Conv2D)            (None, 30, 30, 32)        320       \n",
      "_________________________________________________________________\n",
      "conv2d_3 (Conv2D)            (None, 28, 28, 64)        18496     \n",
      "_________________________________________________________________\n",
      "max_pooling2d_1 (MaxPooling2 (None, 14, 14, 64)        0         \n",
      "_________________________________________________________________\n",
      "dropout_2 (Dropout)          (None, 14, 14, 64)        0         \n",
      "_________________________________________________________________\n",
      "flatten_1 (Flatten)          (None, 12544)             0         \n",
      "_________________________________________________________________\n",
      "dense_2 (Dense)              (None, 128)               1605760   \n",
      "_________________________________________________________________\n",
      "dropout_3 (Dropout)          (None, 128)               0         \n",
      "_________________________________________________________________\n",
      "dense_3 (Dense)              (None, 37)                4773      \n",
      "=================================================================\n",
      "Total params: 1,629,349\n",
      "Trainable params: 1,629,349\n",
      "Non-trainable params: 0\n",
      "_________________________________________________________________\n"
     ]
    }
   ],
   "source": [
    "model = Sequential()\n",
    "model.add(Conv2D(32, kernel_size=(3, 3),activation='relu_moid',input_shape=(32,32,1)))\n",
    "model.add(Conv2D(64, (3, 3), activation='relu_moid'))\n",
    "model.add(MaxPooling2D(pool_size=(2, 2)))\n",
    "model.add(Dropout(0.25))\n",
    "model.add(Flatten())\n",
    "model.add(Dense(128, activation='relu_moid'))\n",
    "model.add(Dropout(0.5))\n",
    "model.add(Dense(37, activation='softmax'))\n",
    "list_of_scores={}\n",
    "model.summary()"
   ]
  },
  {
   "cell_type": "code",
   "execution_count": 11,
   "metadata": {},
   "outputs": [
    {
     "data": {
      "text/plain": [
       "((12240, 32, 32, 1), (12240, 37), (48960, 32, 32, 1), (48960, 37))"
      ]
     },
     "execution_count": 11,
     "metadata": {},
     "output_type": "execute_result"
    }
   ],
   "source": [
    "#optimizer=keras.optimizers.Adadelta(),\n",
    "x_test.shape,y_test.shape,x_train.shape,y_train.shape"
   ]
  },
  {
   "cell_type": "code",
   "execution_count": 12,
   "metadata": {
    "scrolled": true
   },
   "outputs": [
    {
     "name": "stdout",
     "output_type": "stream",
     "text": [
      "Epoch 1/12\n",
      "383/383 [==============================] - 62s 162ms/step - loss: 3.6275 - accuracy: 0.0254 - val_loss: 3.6026 - val_accuracy: 0.0267\n",
      "Epoch 2/12\n",
      "383/383 [==============================] - 62s 163ms/step - loss: 3.6001 - accuracy: 0.0270 - val_loss: 3.5975 - val_accuracy: 0.0278\n",
      "Epoch 3/12\n",
      "383/383 [==============================] - 63s 164ms/step - loss: 3.5959 - accuracy: 0.0258 - val_loss: 3.5942 - val_accuracy: 0.0278\n",
      "Epoch 4/12\n",
      "383/383 [==============================] - 63s 164ms/step - loss: 3.5931 - accuracy: 0.0263 - val_loss: 3.5918 - val_accuracy: 0.0278\n",
      "Epoch 5/12\n",
      "383/383 [==============================] - 63s 164ms/step - loss: 3.5920 - accuracy: 0.0266 - val_loss: 3.5901 - val_accuracy: 0.0278\n",
      "Epoch 6/12\n",
      "383/383 [==============================] - 60s 158ms/step - loss: 3.5897 - accuracy: 0.0249 - val_loss: 3.5889 - val_accuracy: 0.0278\n",
      "Epoch 7/12\n",
      "383/383 [==============================] - 64s 166ms/step - loss: 3.5886 - accuracy: 0.0265 - val_loss: 3.5879 - val_accuracy: 0.0278\n",
      "Epoch 8/12\n",
      "383/383 [==============================] - 64s 168ms/step - loss: 3.5878 - accuracy: 0.0253 - val_loss: 3.5871 - val_accuracy: 0.0278\n",
      "Epoch 9/12\n",
      "383/383 [==============================] - 65s 170ms/step - loss: 3.5870 - accuracy: 0.0255 - val_loss: 3.5865 - val_accuracy: 0.0278\n",
      "Epoch 10/12\n",
      "383/383 [==============================] - 62s 163ms/step - loss: 3.5865 - accuracy: 0.0271 - val_loss: 3.5860 - val_accuracy: 0.0278\n",
      "Epoch 11/12\n",
      "383/383 [==============================] - 64s 168ms/step - loss: 3.5860 - accuracy: 0.0254 - val_loss: 3.5856 - val_accuracy: 0.0278\n",
      "Epoch 12/12\n",
      "383/383 [==============================] - 63s 164ms/step - loss: 3.5857 - accuracy: 0.0263 - val_loss: 3.5853 - val_accuracy: 0.0278\n",
      "Test loss: 3.5852901935577393\n",
      "Test accuracy: 0.02777777798473835\n"
     ]
    },
    {
     "data": {
      "image/png": "[encoded data removed]",
      "text/plain": [
       "<Figure size 432x288 with 1 Axes>"
      ]
     },
     "metadata": {
      "needs_background": "light"
     },
     "output_type": "display_data"
    }
   ],
   "source": [
    "model.compile(loss=keras.losses.categorical_crossentropy,\n",
    "              optimizer='Adam',\n",
    "              metrics=['accuracy'])\n",
    "history=model.fit(x_train, y_train,\n",
    "          batch_size=batch_size,\n",
    "          epochs=epochs,\n",
    "          verbose=1,\n",
    "          validation_data=(x_test, y_test))\n",
    "score = model.evaluate(x_test, y_test, verbose=0)\n",
    "print('Test loss:', score[0])\n",
    "print('Test accuracy:', score[1])\n",
    "list_of_scores['relu_moid']=[]\n",
    "list_of_scores['relu_moid'].append(score[1])\n",
    "# summarize history for accuracy\n",
    "plt.plot(history.history['accuracy'])\n",
    "plt.plot(history.history['val_accuracy'])\n",
    "plt.title('model accuracy')\n",
    "plt.ylabel('accuracy')\n",
    "plt.xlabel('epoch')\n",
    "plt.legend(['train', 'test'], loc='upper left')\n",
    "plt.show()"
   ]
  },
  {
   "cell_type": "markdown",
   "metadata": {},
   "source": [
    "# param_tanh"
   ]
  },
  {
   "cell_type": "code",
   "execution_count": 13,
   "metadata": {},
   "outputs": [],
   "source": [
    "model1 = Sequential()\n",
    "model1.add(Conv2D(32, kernel_size=(3, 3),activation='param_tanh',input_shape=(32,32,1)))\n",
    "model1.add(Conv2D(64, (3, 3), activation='param_tanh'))\n",
    "model1.add(MaxPooling2D(pool_size=(2, 2)))\n",
    "model1.add(Dropout(0.25))\n",
    "model1.add(Flatten())\n",
    "model1.add(Dense(128, activation='param_tanh'))\n",
    "model1.add(Dropout(0.5))\n",
    "model1.add(Dense(37, activation='softmax'))\n"
   ]
  },
  {
   "cell_type": "code",
   "execution_count": 14,
   "metadata": {},
   "outputs": [
    {
     "name": "stdout",
     "output_type": "stream",
     "text": [
      "Epoch 1/12\n",
      "383/383 [==============================] - 54s 142ms/step - loss: 1.6310 - accuracy: 0.5964 - val_loss: 0.5146 - val_accuracy: 0.8576\n",
      "Epoch 2/12\n",
      "383/383 [==============================] - 54s 140ms/step - loss: 0.6433 - accuracy: 0.8093 - val_loss: 0.3522 - val_accuracy: 0.8933\n",
      "Epoch 3/12\n",
      "383/383 [==============================] - 53s 138ms/step - loss: 0.4800 - accuracy: 0.8554 - val_loss: 0.3319 - val_accuracy: 0.8989\n",
      "Epoch 4/12\n",
      "383/383 [==============================] - 55s 144ms/step - loss: 0.4122 - accuracy: 0.8727 - val_loss: 0.3221 - val_accuracy: 0.9047\n",
      "Epoch 5/12\n",
      "383/383 [==============================] - 53s 139ms/step - loss: 0.3850 - accuracy: 0.8813 - val_loss: 0.3065 - val_accuracy: 0.9099\n",
      "Epoch 6/12\n",
      "383/383 [==============================] - 53s 139ms/step - loss: 0.3607 - accuracy: 0.8887 - val_loss: 0.3039 - val_accuracy: 0.9111\n",
      "Epoch 7/12\n",
      "383/383 [==============================] - 53s 137ms/step - loss: 0.3446 - accuracy: 0.8924 - val_loss: 0.3046 - val_accuracy: 0.9129\n",
      "Epoch 8/12\n",
      "383/383 [==============================] - 53s 138ms/step - loss: 0.3204 - accuracy: 0.8997 - val_loss: 0.3081 - val_accuracy: 0.9118\n",
      "Epoch 9/12\n",
      "383/383 [==============================] - 52s 137ms/step - loss: 0.2979 - accuracy: 0.9057 - val_loss: 0.3041 - val_accuracy: 0.9150\n",
      "Epoch 10/12\n",
      "383/383 [==============================] - 54s 141ms/step - loss: 0.2846 - accuracy: 0.9102 - val_loss: 0.3186 - val_accuracy: 0.9131\n",
      "Epoch 11/12\n",
      "383/383 [==============================] - 55s 143ms/step - loss: 0.2689 - accuracy: 0.9160 - val_loss: 0.3137 - val_accuracy: 0.9132\n",
      "Epoch 12/12\n",
      "383/383 [==============================] - 53s 137ms/step - loss: 0.2613 - accuracy: 0.9172 - val_loss: 0.3085 - val_accuracy: 0.9146\n",
      "Test loss: 0.3084907829761505\n",
      "Test accuracy: 0.9146241545677185\n"
     ]
    },
    {
     "data": {
      "image/png": "[encoded data removed]",
      "text/plain": [
       "<Figure size 432x288 with 1 Axes>"
      ]
     },
     "metadata": {
      "needs_background": "light"
     },
     "output_type": "display_data"
    }
   ],
   "source": [
    "model1.compile(loss=keras.losses.categorical_crossentropy,\n",
    "              optimizer='Adam',\n",
    "              metrics=['accuracy'])\n",
    "history=model1.fit(x_train, y_train,\n",
    "          batch_size=batch_size,\n",
    "          epochs=epochs,\n",
    "          verbose=1,\n",
    "          validation_data=(x_test, y_test))\n",
    "score = model1.evaluate(x_test, y_test, verbose=0)\n",
    "print('Test loss:', score[0])\n",
    "print('Test accuracy:', score[1])\n",
    "list_of_scores['param_tanh']=[]\n",
    "list_of_scores['param_tanh'].append(score[1])\n",
    "# summarize history for accuracy\n",
    "plt.plot(history.history['accuracy'])\n",
    "plt.plot(history.history['val_accuracy'])\n",
    "plt.title('model accuracy')\n",
    "plt.ylabel('accuracy')\n",
    "plt.xlabel('epoch')\n",
    "plt.legend(['train', 'test'], loc='upper left')\n",
    "plt.show()"
   ]
  },
  {
   "cell_type": "markdown",
   "metadata": {},
   "source": [
    "# param_sigmoid"
   ]
  },
  {
   "cell_type": "code",
   "execution_count": 15,
   "metadata": {},
   "outputs": [],
   "source": [
    "model2 = Sequential()\n",
    "model2.add(Conv2D(32, kernel_size=(3, 3),activation='param_sigmoid',input_shape=(32,32,1)))\n",
    "model2.add(Conv2D(64, (3, 3), activation='param_sigmoid'))\n",
    "model2.add(MaxPooling2D(pool_size=(2, 2)))\n",
    "model2.add(Dropout(0.25))\n",
    "model2.add(Flatten())\n",
    "model2.add(Dense(128, activation='param_sigmoid'))\n",
    "model2.add(Dropout(0.5))\n",
    "model2.add(Dense(37, activation='softmax'))\n"
   ]
  },
  {
   "cell_type": "code",
   "execution_count": 16,
   "metadata": {},
   "outputs": [
    {
     "name": "stdout",
     "output_type": "stream",
     "text": [
      "Epoch 1/12\n",
      "383/383 [==============================] - 67s 174ms/step - loss: 1.3432 - accuracy: 0.6232 - val_loss: 0.4084 - val_accuracy: 0.8908\n",
      "Epoch 2/12\n",
      "383/383 [==============================] - 69s 180ms/step - loss: 0.5531 - accuracy: 0.8334 - val_loss: 0.2604 - val_accuracy: 0.9250\n",
      "Epoch 3/12\n",
      "383/383 [==============================] - 67s 174ms/step - loss: 0.4031 - accuracy: 0.8743 - val_loss: 0.2166 - val_accuracy: 0.9386\n",
      "Epoch 4/12\n",
      "383/383 [==============================] - 68s 179ms/step - loss: 0.3234 - accuracy: 0.8980 - val_loss: 0.1831 - val_accuracy: 0.9459\n",
      "Epoch 5/12\n",
      "383/383 [==============================] - 68s 177ms/step - loss: 0.2828 - accuracy: 0.9093 - val_loss: 0.1669 - val_accuracy: 0.9501\n",
      "Epoch 6/12\n",
      "383/383 [==============================] - 67s 174ms/step - loss: 0.2516 - accuracy: 0.9199 - val_loss: 0.1583 - val_accuracy: 0.9542\n",
      "Epoch 7/12\n",
      "383/383 [==============================] - 68s 176ms/step - loss: 0.2187 - accuracy: 0.9273 - val_loss: 0.1539 - val_accuracy: 0.9522\n",
      "Epoch 8/12\n",
      "383/383 [==============================] - 68s 178ms/step - loss: 0.2007 - accuracy: 0.9345 - val_loss: 0.1439 - val_accuracy: 0.9557\n",
      "Epoch 9/12\n",
      "383/383 [==============================] - 67s 175ms/step - loss: 0.1861 - accuracy: 0.9375 - val_loss: 0.1540 - val_accuracy: 0.9545\n",
      "Epoch 10/12\n",
      "383/383 [==============================] - 66s 173ms/step - loss: 0.1717 - accuracy: 0.9436 - val_loss: 0.1357 - val_accuracy: 0.9593\n",
      "Epoch 11/12\n",
      "383/383 [==============================] - 67s 176ms/step - loss: 0.1641 - accuracy: 0.9444 - val_loss: 0.1304 - val_accuracy: 0.9616\n",
      "Epoch 12/12\n",
      "383/383 [==============================] - 68s 178ms/step - loss: 0.1442 - accuracy: 0.9514 - val_loss: 0.1329 - val_accuracy: 0.9608\n",
      "Test loss: 0.13292258977890015\n",
      "Test accuracy: 0.9607843160629272\n"
     ]
    },
    {
     "data": {
      "image/png": "[encoded data removed]",
      "text/plain": [
       "<Figure size 432x288 with 1 Axes>"
      ]
     },
     "metadata": {
      "needs_background": "light"
     },
     "output_type": "display_data"
    }
   ],
   "source": [
    "model2.compile(loss=keras.losses.categorical_crossentropy,\n",
    "              optimizer='Adam',\n",
    "              metrics=['accuracy'])\n",
    "history=model2.fit(x_train, y_train,\n",
    "          batch_size=batch_size,\n",
    "          epochs=epochs,\n",
    "          verbose=1,\n",
    "          validation_data=(x_test, y_test))\n",
    "score = model2.evaluate(x_test, y_test, verbose=0)\n",
    "print('Test loss:', score[0])\n",
    "print('Test accuracy:', score[1])\n",
    "list_of_scores['param_sigmoid']=[]\n",
    "list_of_scores['param_sigmoid'].append(score[1])\n",
    "# summarize history for accuracy\n",
    "plt.plot(history.history['accuracy'])\n",
    "plt.plot(history.history['val_accuracy'])\n",
    "plt.title('model accuracy')\n",
    "plt.ylabel('accuracy')\n",
    "plt.xlabel('epoch')\n",
    "plt.legend(['train', 'test'], loc='upper left')\n",
    "plt.show()"
   ]
  },
  {
   "cell_type": "markdown",
   "metadata": {},
   "source": [
    "# Relu"
   ]
  },
  {
   "cell_type": "code",
   "execution_count": 17,
   "metadata": {},
   "outputs": [],
   "source": [
    "model3 = Sequential()\n",
    "model3.add(Conv2D(32, kernel_size=(3, 3),activation='relu',input_shape=(32,32,1)))\n",
    "model3.add(Conv2D(64, (3, 3), activation='relu'))\n",
    "model3.add(MaxPooling2D(pool_size=(2, 2)))\n",
    "model3.add(Dropout(0.25))\n",
    "model3.add(Flatten())\n",
    "model3.add(Dense(128, activation='relu'))\n",
    "model3.add(Dropout(0.5))\n",
    "model3.add(Dense(37, activation='softmax'))\n"
   ]
  },
  {
   "cell_type": "code",
   "execution_count": 18,
   "metadata": {},
   "outputs": [
    {
     "name": "stdout",
     "output_type": "stream",
     "text": [
      "Epoch 1/12\n",
      "383/383 [==============================] - 52s 136ms/step - loss: 1.8247 - accuracy: 0.4735 - val_loss: 0.5505 - val_accuracy: 0.8595\n",
      "Epoch 2/12\n",
      "383/383 [==============================] - 44s 115ms/step - loss: 0.9347 - accuracy: 0.7101 - val_loss: 0.3511 - val_accuracy: 0.9032\n",
      "Epoch 3/12\n",
      "383/383 [==============================] - 44s 115ms/step - loss: 0.7373 - accuracy: 0.7652 - val_loss: 0.2712 - val_accuracy: 0.9203\n",
      "Epoch 4/12\n",
      "383/383 [==============================] - 44s 115ms/step - loss: 0.6415 - accuracy: 0.7937 - val_loss: 0.2399 - val_accuracy: 0.9322\n",
      "Epoch 5/12\n",
      "383/383 [==============================] - 44s 116ms/step - loss: 0.5844 - accuracy: 0.8080 - val_loss: 0.2239 - val_accuracy: 0.9374\n",
      "Epoch 6/12\n",
      "383/383 [==============================] - 44s 115ms/step - loss: 0.5376 - accuracy: 0.8274 - val_loss: 0.2078 - val_accuracy: 0.9391\n",
      "Epoch 7/12\n",
      "383/383 [==============================] - 45s 117ms/step - loss: 0.4892 - accuracy: 0.8397 - val_loss: 0.1891 - val_accuracy: 0.9444\n",
      "Epoch 8/12\n",
      "383/383 [==============================] - 44s 115ms/step - loss: 0.4662 - accuracy: 0.8445 - val_loss: 0.1763 - val_accuracy: 0.9475\n",
      "Epoch 9/12\n",
      "383/383 [==============================] - 44s 115ms/step - loss: 0.4290 - accuracy: 0.8569 - val_loss: 0.1703 - val_accuracy: 0.9492\n",
      "Epoch 10/12\n",
      "383/383 [==============================] - 44s 116ms/step - loss: 0.4131 - accuracy: 0.8603 - val_loss: 0.1692 - val_accuracy: 0.9487\n",
      "Epoch 11/12\n",
      "383/383 [==============================] - 44s 116ms/step - loss: 0.3973 - accuracy: 0.8662 - val_loss: 0.1655 - val_accuracy: 0.9519\n",
      "Epoch 12/12\n",
      "383/383 [==============================] - 45s 117ms/step - loss: 0.3854 - accuracy: 0.8699 - val_loss: 0.1554 - val_accuracy: 0.9545\n",
      "Test loss: 0.15537482500076294\n",
      "Test accuracy: 0.9544934630393982\n"
     ]
    },
    {
     "data": {
      "image/png": "[encoded data removed]",
      "text/plain": [
       "<Figure size 432x288 with 1 Axes>"
      ]
     },
     "metadata": {
      "needs_background": "light"
     },
     "output_type": "display_data"
    }
   ],
   "source": [
    "model3.compile(loss=keras.losses.categorical_crossentropy,\n",
    "              optimizer='Adam',\n",
    "              metrics=['accuracy'])\n",
    "history=model3.fit(x_train, y_train,\n",
    "          batch_size=batch_size,\n",
    "          epochs=epochs,\n",
    "          verbose=1,\n",
    "          validation_data=(x_test, y_test))\n",
    "score = model3.evaluate(x_test, y_test, verbose=0)\n",
    "print('Test loss:', score[0])\n",
    "print('Test accuracy:', score[1])\n",
    "list_of_scores['relu']=[]\n",
    "list_of_scores['relu'].append(score[1])\n",
    "# summarize history for accuracy\n",
    "plt.plot(history.history['accuracy'])\n",
    "plt.plot(history.history['val_accuracy'])\n",
    "plt.title('model accuracy')\n",
    "plt.ylabel('accuracy')\n",
    "plt.xlabel('epoch')\n",
    "plt.legend(['train', 'test'], loc='upper left')\n",
    "plt.show()"
   ]
  },
  {
   "cell_type": "markdown",
   "metadata": {},
   "source": [
    "# tanh"
   ]
  },
  {
   "cell_type": "code",
   "execution_count": 19,
   "metadata": {},
   "outputs": [],
   "source": [
    "model4 = Sequential()\n",
    "model4.add(Conv2D(32, kernel_size=(3, 3),activation='tanh',input_shape=(32,32,1)))\n",
    "model4.add(Conv2D(64, (3, 3), activation='tanh'))\n",
    "model4.add(MaxPooling2D(pool_size=(2, 2)))\n",
    "model4.add(Dropout(0.25))\n",
    "model4.add(Flatten())\n",
    "model4.add(Dense(128, activation='tanh'))\n",
    "model4.add(Dropout(0.5))\n",
    "model4.add(Dense(37, activation='softmax'))\n"
   ]
  },
  {
   "cell_type": "code",
   "execution_count": 20,
   "metadata": {},
   "outputs": [
    {
     "name": "stdout",
     "output_type": "stream",
     "text": [
      "Epoch 1/12\n",
      "383/383 [==============================] - 46s 121ms/step - loss: 1.3399 - accuracy: 0.6314 - val_loss: 0.5594 - val_accuracy: 0.8553\n",
      "Epoch 2/12\n",
      "383/383 [==============================] - 46s 119ms/step - loss: 0.6116 - accuracy: 0.8265 - val_loss: 0.3679 - val_accuracy: 0.8977\n",
      "Epoch 3/12\n",
      "383/383 [==============================] - 46s 121ms/step - loss: 0.4571 - accuracy: 0.8658 - val_loss: 0.3066 - val_accuracy: 0.9158\n",
      "Epoch 4/12\n",
      "383/383 [==============================] - 47s 124ms/step - loss: 0.3755 - accuracy: 0.8897 - val_loss: 0.2761 - val_accuracy: 0.9203\n",
      "Epoch 5/12\n",
      "383/383 [==============================] - 47s 123ms/step - loss: 0.3391 - accuracy: 0.8971 - val_loss: 0.2579 - val_accuracy: 0.9253\n",
      "Epoch 6/12\n",
      "383/383 [==============================] - 47s 122ms/step - loss: 0.2978 - accuracy: 0.9086 - val_loss: 0.2538 - val_accuracy: 0.9269\n",
      "Epoch 7/12\n",
      "383/383 [==============================] - 47s 122ms/step - loss: 0.2721 - accuracy: 0.9166 - val_loss: 0.2451 - val_accuracy: 0.9254\n",
      "Epoch 8/12\n",
      "383/383 [==============================] - 47s 123ms/step - loss: 0.2570 - accuracy: 0.9195 - val_loss: 0.2351 - val_accuracy: 0.9295\n",
      "Epoch 9/12\n",
      "383/383 [==============================] - 47s 123ms/step - loss: 0.2422 - accuracy: 0.9244 - val_loss: 0.2299 - val_accuracy: 0.9300\n",
      "Epoch 10/12\n",
      "383/383 [==============================] - 47s 123ms/step - loss: 0.2339 - accuracy: 0.9253 - val_loss: 0.2290 - val_accuracy: 0.9304\n",
      "Epoch 11/12\n",
      "383/383 [==============================] - 47s 122ms/step - loss: 0.2227 - accuracy: 0.9284 - val_loss: 0.2321 - val_accuracy: 0.9325\n",
      "Epoch 12/12\n",
      "383/383 [==============================] - 47s 123ms/step - loss: 0.2099 - accuracy: 0.9321 - val_loss: 0.2281 - val_accuracy: 0.9301\n",
      "Test loss: 0.22805872559547424\n",
      "Test accuracy: 0.9301470518112183\n"
     ]
    },
    {
     "data": {
      "image/png": "[encoded data removed]",
      "text/plain": [
       "<Figure size 432x288 with 1 Axes>"
      ]
     },
     "metadata": {
      "needs_background": "light"
     },
     "output_type": "display_data"
    }
   ],
   "source": [
    "model4.compile(loss=keras.losses.categorical_crossentropy,\n",
    "              optimizer='Adam',\n",
    "              metrics=['accuracy'])\n",
    "history=model4.fit(x_train, y_train,\n",
    "          batch_size=batch_size,\n",
    "          epochs=epochs,\n",
    "          verbose=1,\n",
    "          validation_data=(x_test, y_test))\n",
    "score = model4.evaluate(x_test, y_test, verbose=0)\n",
    "print('Test loss:', score[0])\n",
    "print('Test accuracy:', score[1])\n",
    "list_of_scores['tanh']=[]\n",
    "list_of_scores['tanh'].append(score[1])\n",
    "# summarize history for accuracy\n",
    "plt.plot(history.history['accuracy'])\n",
    "plt.plot(history.history['val_accuracy'])\n",
    "plt.title('model accuracy')\n",
    "plt.ylabel('accuracy')\n",
    "plt.xlabel('epoch')\n",
    "plt.legend(['train', 'test'], loc='upper left')\n",
    "plt.show()"
   ]
  },
  {
   "cell_type": "markdown",
   "metadata": {},
   "source": [
    "# Sigmoid"
   ]
  },
  {
   "cell_type": "code",
   "execution_count": 21,
   "metadata": {},
   "outputs": [],
   "source": [
    "model5 = Sequential()\n",
    "model5.add(Conv2D(32, kernel_size=(3, 3),activation='sigmoid',input_shape=(32,32,1)))\n",
    "model5.add(Conv2D(64, (3, 3), activation='sigmoid'))\n",
    "model5.add(MaxPooling2D(pool_size=(2, 2)))\n",
    "model5.add(Dropout(0.25))\n",
    "model5.add(Flatten())\n",
    "model5.add(Dense(128, activation='sigmoid'))\n",
    "model5.add(Dropout(0.5))\n",
    "model5.add(Dense(37, activation='softmax'))\n"
   ]
  },
  {
   "cell_type": "code",
   "execution_count": 22,
   "metadata": {},
   "outputs": [
    {
     "name": "stdout",
     "output_type": "stream",
     "text": [
      "Epoch 1/12\n",
      "383/383 [==============================] - 46s 121ms/step - loss: 3.6704 - accuracy: 0.0285 - val_loss: 3.5857 - val_accuracy: 0.0278\n",
      "Epoch 2/12\n",
      "383/383 [==============================] - 45s 119ms/step - loss: 3.6126 - accuracy: 0.0271 - val_loss: 3.5848 - val_accuracy: 0.0278\n",
      "Epoch 3/12\n",
      "383/383 [==============================] - 45s 118ms/step - loss: 3.5978 - accuracy: 0.0274 - val_loss: 3.5848 - val_accuracy: 0.0278\n",
      "Epoch 4/12\n",
      "383/383 [==============================] - 47s 123ms/step - loss: 3.5910 - accuracy: 0.0278 - val_loss: 3.5853 - val_accuracy: 0.0278\n",
      "Epoch 5/12\n",
      "383/383 [==============================] - 46s 121ms/step - loss: 3.5889 - accuracy: 0.0273 - val_loss: 3.5851 - val_accuracy: 0.0278\n",
      "Epoch 6/12\n",
      "383/383 [==============================] - 47s 122ms/step - loss: 3.5880 - accuracy: 0.0277 - val_loss: 3.5851 - val_accuracy: 0.0278\n",
      "Epoch 7/12\n",
      "383/383 [==============================] - 46s 121ms/step - loss: 3.5884 - accuracy: 0.0255 - val_loss: 3.5850 - val_accuracy: 0.0278\n",
      "Epoch 8/12\n",
      "383/383 [==============================] - 47s 122ms/step - loss: 3.5877 - accuracy: 0.0263 - val_loss: 3.5850 - val_accuracy: 0.0278\n",
      "Epoch 9/12\n",
      "383/383 [==============================] - 47s 122ms/step - loss: 3.5874 - accuracy: 0.0267 - val_loss: 3.5853 - val_accuracy: 0.0278\n",
      "Epoch 10/12\n",
      "383/383 [==============================] - 46s 119ms/step - loss: 3.5877 - accuracy: 0.0284 - val_loss: 3.5852 - val_accuracy: 0.0278\n",
      "Epoch 11/12\n",
      "383/383 [==============================] - 45s 117ms/step - loss: 3.5878 - accuracy: 0.0274 - val_loss: 3.5852 - val_accuracy: 0.0278\n",
      "Epoch 12/12\n",
      "383/383 [==============================] - 46s 119ms/step - loss: 3.5876 - accuracy: 0.0276 - val_loss: 3.5854 - val_accuracy: 0.0278\n",
      "Test loss: 3.585348606109619\n",
      "Test accuracy: 0.02777777798473835\n"
     ]
    },
    {
     "data": {
      "image/png": "[encoded data removed]",
      "text/plain": [
       "<Figure size 432x288 with 1 Axes>"
      ]
     },
     "metadata": {
      "needs_background": "light"
     },
     "output_type": "display_data"
    }
   ],
   "source": [
    "model5.compile(loss=keras.losses.categorical_crossentropy,\n",
    "              optimizer='Adam',\n",
    "              metrics=['accuracy'])\n",
    "history=model5.fit(x_train, y_train,\n",
    "          batch_size=batch_size,\n",
    "          epochs=epochs,\n",
    "          verbose=1,\n",
    "          validation_data=(x_test, y_test))\n",
    "score = model5.evaluate(x_test, y_test, verbose=0)\n",
    "print('Test loss:', score[0])\n",
    "print('Test accuracy:', score[1])\n",
    "list_of_scores['sigmoid']=[]\n",
    "list_of_scores['sigmoid'].append(score[1])\n",
    "# summarize history for accuracy\n",
    "plt.plot(history.history['accuracy'])\n",
    "plt.plot(history.history['val_accuracy'])\n",
    "plt.title('model accuracy')\n",
    "plt.ylabel('accuracy')\n",
    "plt.xlabel('epoch')\n",
    "plt.legend(['train', 'test'], loc='upper left')\n",
    "plt.show()"
   ]
  },
  {
   "cell_type": "markdown",
   "metadata": {},
   "source": [
    "# Visualizing results"
   ]
  },
  {
   "cell_type": "code",
   "execution_count": 23,
   "metadata": {},
   "outputs": [],
   "source": [
    "\n",
    "activation=list(list_of_scores.keys())\n",
    "metrics=list(list_of_scores.values())"
   ]
  },
  {
   "cell_type": "code",
   "execution_count": 24,
   "metadata": {},
   "outputs": [
    {
     "data": {
      "image/png": "[encoded data removed]",
      "text/plain": [
       "<Figure size 432x288 with 1 Axes>"
      ]
     },
     "metadata": {
      "needs_background": "light"
     },
     "output_type": "display_data"
    }
   ],
   "source": [
    "import seaborn as sns\n",
    "ax=sns.barplot(x=activation,y=[item[0] for item in metrics])\n",
    "ax.set(xlabel='Activations', ylabel='Accuracy')\n",
    "plt.show()"
   ]
  },
  {
   "cell_type": "code",
   "execution_count": 25,
   "metadata": {},
   "outputs": [
    {
     "data": {
      "text/plain": [
       "{'relu_moid': [0.02777777798473835],\n",
       " 'param_tanh': [0.9146241545677185],\n",
       " 'param_sigmoid': [0.9607843160629272],\n",
       " 'relu': [0.9544934630393982],\n",
       " 'tanh': [0.9301470518112183],\n",
       " 'sigmoid': [0.02777777798473835]}"
      ]
     },
     "execution_count": 25,
     "metadata": {},
     "output_type": "execute_result"
    }
   ],
   "source": [
    "list_of_scores"
   ]
  },
  {
   "cell_type": "code",
   "execution_count": null,
   "metadata": {},
   "outputs": [],
   "source": []
  }
 ],
 "metadata": {
  "kernelspec": {
   "display_name": "Python 3",
   "language": "python",
   "name": "python3"
  },
  "language_info": {
   "codemirror_mode": {
    "name": "ipython",
    "version": 3
   },
   "file_extension": ".py",
   "mimetype": "text/x-python",
   "name": "python",
   "nbconvert_exporter": "python",
   "pygments_lexer": "ipython3",
   "version": "3.8.5"
  }
 },
 "nbformat": 4,
 "nbformat_minor": 2
}
